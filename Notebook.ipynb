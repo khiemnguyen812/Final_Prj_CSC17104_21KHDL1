{
 "cells": [
  {
   "attachments": {},
   "cell_type": "markdown",
   "id": "0c93b39f",
   "metadata": {},
   "source": [
    "# Đồ án cuối kỳ môn Lập trình cho KHDL - CSC17104_21KHDL1\n",
    "\n",
    "---\n",
    "## 1. Thông tin nhóm: Nhóm 12\n",
    "\n",
    "- Thành viên:\n",
    "    - Nguyễn Trọng Đại - 21127587\n",
    "    - Nguyễn Tấn Khiêm - 21127726"
   ]
  },
  {
   "attachments": {},
   "cell_type": "markdown",
   "id": "44a67387",
   "metadata": {},
   "source": [
    "---\n",
    "## 2. Import thư viện cần thiết"
   ]
  },
  {
   "cell_type": "code",
   "execution_count": 1,
   "id": "97c02d21",
   "metadata": {},
   "outputs": [],
   "source": [
    "import numpy as np\n",
    "import pandas as pd\n",
    "import matplotlib.pyplot as plt\n",
    "import warnings\n",
    "warnings.simplefilter('ignore')"
   ]
  },
  {
   "attachments": {},
   "cell_type": "markdown",
   "id": "a33b38b8",
   "metadata": {},
   "source": [
    "---\n",
    "## 3. Thu thập dữ liệu\n",
    "\n",
    "- Bộ dữ liệu [Sleep Health and Lifestyle Dataset](https://www.kaggle.com/datasets/uom190346a/sleep-health-and-lifestyle-dataset) bao gồm 400 hàng và 13 cột, bao gồm nhiều biến số liên quan đến giấc ngủ và thói quen hàng ngày. Nó bao gồm các chi tiết như giới tính, tuổi tác, nghề nghiệp, thời gian ngủ, chất lượng giấc ngủ, mức độ hoạt động thể chất, mức độ căng thẳng, chỉ số BMI, huyết áp, nhịp tim, số bước đi hàng ngày và sự hiện diện hay vắng mặt của rối loạn giấc ngủ.\n",
    "- Các tính năng chính của Tập dữ liệu:\n",
    "    + Số liệu toàn diện về giấc ngủ: Khám phá thời lượng, chất lượng giấc ngủ và các yếu tố ảnh hưởng đến kiểu ngủ. \n",
    "    + Các yếu tố về lối sống: Phân tích mức độ hoạt động thể chất, mức độ căng thẳng và chỉ số BMI. \n",
    "    + Sức khỏe tim mạch: Kiểm tra huyết áp và đo nhịp tim. \n",
    "    + Phân tích rối loạn giấc ngủ: Xác định sự xuất hiện của các rối loạn giấc ngủ như Mất ngủ và Ngưng thở khi ngủ.\n",
    "- Tác giả: [Laksika Tharmalingam](https://www.kaggle.com/uom190346a) (Owner).\n",
    "- License: [CC0: Public Domain](https://creativecommons.org/publicdomain/zero/1.0/) nguồn này là public và no copyright vì vậy nhóm em có thể sao chép, khai thác, sửa đổi và phân phối.\n",
    "- Ý nghĩa các cột của Dataset:\n",
    "    - Personal ID: Một định danh cho mỗi cá nhân.\n",
    "    - Gender: Giới tính của người đó (Male/Female).\n",
    "    - Age: Tuổi của người đó tính bằng năm.\n",
    "    - Occupation: Nghề nghiệp hoặc ngành nghề của người đó.\n",
    "    - Sleep Duration (giờ): Số giờ ngủ của người đó mỗi ngày.\n",
    "    - Quality of Sleep (thang điểm: 1-10): Đánh giá chủ quan về chất lượng giấc ngủ, có giá trị từ 1 đến 10.\n",
    "    - Physical Activity Level (phút/ngày): Số phút mà người đó tham gia hoạt động vận động hàng ngày.\n",
    "    - Stress Level (thang điểm: 1-10): Đánh giá chủ quan về mức độ stress mà người đó trải qua, có giá trị từ 1 đến 10.\n",
    "    - BMI Category: Phân loại BMI của người đó (ví dụ: Gầy, Bình thường, Thừa cân).\n",
    "    - Blood Pressure (systolic/diastolic): Đo lường huyết áp của người đó, thường được biểu thị dưới dạng áp systolic trên áp diastolic.\n",
    "    - Heart Rate (nhịp/phút): Nhịp tim nghỉ của người đó tính bằng nhịp mỗi phút.\n",
    "    - Daily Steps: Số bước chân mà người đó đi mỗi ngày.\n",
    "    - Sleep Disorder: Sự có mặt hoặc vắng mặt của rối loạn ngủ ở người đó (Không, Mất ngủ, Ngưng thở khi ngủ).\n",
    "    - Chi tiết về Cột Sleep Disorder:\n",
    "        + None: Người đó không có bất kỳ rối loạn ngủ cụ thể nào.\n",
    "        + Insomnia: Người đó gặp khó khăn khi ngủ hoặc giữ giấc ngủ, dẫn đến giấc ngủ không đủ hoặc chất lượng kém.\n",
    "        + Sleep Apnea: Người đó gặp phải tình trạng tạm dừng hơi thở trong khi ngủ, dẫn đến việc làm gián đoạn mô hình giấc ngủ và có thể gây nguy cơ về sức khỏe."
   ]
  },
  {
   "attachments": {},
   "cell_type": "markdown",
   "id": "14679c2a",
   "metadata": {},
   "source": [
    "---\n",
    "## 4. Khám phá dữ liệu + Tiền xử lý"
   ]
  },
  {
   "attachments": {},
   "cell_type": "markdown",
   "id": "d784e12d",
   "metadata": {},
   "source": [
    "### 4.0. Đọc dữ liệu"
   ]
  },
  {
   "cell_type": "code",
   "execution_count": 2,
   "id": "b2b91697",
   "metadata": {},
   "outputs": [
    {
     "data": {
      "text/html": [
       "<div>\n",
       "<style scoped>\n",
       "    .dataframe tbody tr th:only-of-type {\n",
       "        vertical-align: middle;\n",
       "    }\n",
       "\n",
       "    .dataframe tbody tr th {\n",
       "        vertical-align: top;\n",
       "    }\n",
       "\n",
       "    .dataframe thead th {\n",
       "        text-align: right;\n",
       "    }\n",
       "</style>\n",
       "<table border=\"1\" class=\"dataframe\">\n",
       "  <thead>\n",
       "    <tr style=\"text-align: right;\">\n",
       "      <th></th>\n",
       "      <th>Person ID</th>\n",
       "      <th>Gender</th>\n",
       "      <th>Age</th>\n",
       "      <th>Occupation</th>\n",
       "      <th>Sleep Duration</th>\n",
       "      <th>Quality of Sleep</th>\n",
       "      <th>Physical Activity Level</th>\n",
       "      <th>Stress Level</th>\n",
       "      <th>BMI Category</th>\n",
       "      <th>Blood Pressure</th>\n",
       "      <th>Heart Rate</th>\n",
       "      <th>Daily Steps</th>\n",
       "      <th>Sleep Disorder</th>\n",
       "    </tr>\n",
       "  </thead>\n",
       "  <tbody>\n",
       "    <tr>\n",
       "      <th>3</th>\n",
       "      <td>4</td>\n",
       "      <td>Male</td>\n",
       "      <td>28</td>\n",
       "      <td>Sales Representative</td>\n",
       "      <td>5.9</td>\n",
       "      <td>4</td>\n",
       "      <td>30</td>\n",
       "      <td>8</td>\n",
       "      <td>Obese</td>\n",
       "      <td>140/90</td>\n",
       "      <td>85</td>\n",
       "      <td>3000</td>\n",
       "      <td>Sleep Apnea</td>\n",
       "    </tr>\n",
       "    <tr>\n",
       "      <th>90</th>\n",
       "      <td>91</td>\n",
       "      <td>Male</td>\n",
       "      <td>35</td>\n",
       "      <td>Engineer</td>\n",
       "      <td>7.3</td>\n",
       "      <td>8</td>\n",
       "      <td>60</td>\n",
       "      <td>4</td>\n",
       "      <td>Normal</td>\n",
       "      <td>125/80</td>\n",
       "      <td>65</td>\n",
       "      <td>5000</td>\n",
       "      <td>NaN</td>\n",
       "    </tr>\n",
       "    <tr>\n",
       "      <th>150</th>\n",
       "      <td>151</td>\n",
       "      <td>Female</td>\n",
       "      <td>39</td>\n",
       "      <td>Accountant</td>\n",
       "      <td>8.0</td>\n",
       "      <td>9</td>\n",
       "      <td>80</td>\n",
       "      <td>3</td>\n",
       "      <td>Normal Weight</td>\n",
       "      <td>115/78</td>\n",
       "      <td>67</td>\n",
       "      <td>7500</td>\n",
       "      <td>NaN</td>\n",
       "    </tr>\n",
       "    <tr>\n",
       "      <th>368</th>\n",
       "      <td>369</td>\n",
       "      <td>Female</td>\n",
       "      <td>59</td>\n",
       "      <td>Nurse</td>\n",
       "      <td>8.1</td>\n",
       "      <td>9</td>\n",
       "      <td>75</td>\n",
       "      <td>3</td>\n",
       "      <td>Overweight</td>\n",
       "      <td>140/95</td>\n",
       "      <td>68</td>\n",
       "      <td>7000</td>\n",
       "      <td>Sleep Apnea</td>\n",
       "    </tr>\n",
       "    <tr>\n",
       "      <th>61</th>\n",
       "      <td>62</td>\n",
       "      <td>Male</td>\n",
       "      <td>32</td>\n",
       "      <td>Doctor</td>\n",
       "      <td>6.0</td>\n",
       "      <td>6</td>\n",
       "      <td>30</td>\n",
       "      <td>8</td>\n",
       "      <td>Normal</td>\n",
       "      <td>125/80</td>\n",
       "      <td>72</td>\n",
       "      <td>5000</td>\n",
       "      <td>NaN</td>\n",
       "    </tr>\n",
       "  </tbody>\n",
       "</table>\n",
       "</div>"
      ],
      "text/plain": [
       "     Person ID  Gender  Age            Occupation  Sleep Duration  \\\n",
       "3            4    Male   28  Sales Representative             5.9   \n",
       "90          91    Male   35              Engineer             7.3   \n",
       "150        151  Female   39            Accountant             8.0   \n",
       "368        369  Female   59                 Nurse             8.1   \n",
       "61          62    Male   32                Doctor             6.0   \n",
       "\n",
       "     Quality of Sleep  Physical Activity Level  Stress Level   BMI Category  \\\n",
       "3                   4                       30             8          Obese   \n",
       "90                  8                       60             4         Normal   \n",
       "150                 9                       80             3  Normal Weight   \n",
       "368                 9                       75             3     Overweight   \n",
       "61                  6                       30             8         Normal   \n",
       "\n",
       "    Blood Pressure  Heart Rate  Daily Steps Sleep Disorder  \n",
       "3           140/90          85         3000    Sleep Apnea  \n",
       "90          125/80          65         5000            NaN  \n",
       "150         115/78          67         7500            NaN  \n",
       "368         140/95          68         7000    Sleep Apnea  \n",
       "61          125/80          72         5000            NaN  "
      ]
     },
     "execution_count": 2,
     "metadata": {},
     "output_type": "execute_result"
    }
   ],
   "source": [
    "# TODO: Đọc data từ file csv và lưu vào df. Hiển thị 5 dòng ngẫu nhiên\n",
    "df = pd.read_csv(\"./data/Sleep_health_and_lifestyle_dataset.csv\")\n",
    "df.sample(5)"
   ]
  },
  {
   "attachments": {},
   "cell_type": "markdown",
   "id": "a4a426e7",
   "metadata": {},
   "source": [
    "### 4.1. Số dòng, số cột"
   ]
  },
  {
   "cell_type": "code",
   "execution_count": 3,
   "id": "f784d572",
   "metadata": {},
   "outputs": [
    {
     "data": {
      "text/plain": [
       "(374, 13)"
      ]
     },
     "execution_count": 3,
     "metadata": {},
     "output_type": "execute_result"
    }
   ],
   "source": [
    "# TODO: Lưu số dòng vào số cột vào n_rows, n_cols\n",
    "n_rows, n_cols = df.shape\n",
    "\n",
    "n_rows, n_cols"
   ]
  },
  {
   "attachments": {},
   "cell_type": "markdown",
   "id": "72ae45b3",
   "metadata": {},
   "source": [
    "### 4.2. Khám phá dòng\n",
    "\n",
    "- Nhận xét dòng: các dòng thể hiện khảo sát của một Person ID."
   ]
  },
  {
   "cell_type": "code",
   "execution_count": 4,
   "id": "ac98e27d",
   "metadata": {},
   "outputs": [
    {
     "name": "stdout",
     "output_type": "stream",
     "text": [
      "Dữ liệu có duplicate? : 0      False\n",
      "1      False\n",
      "2      False\n",
      "3      False\n",
      "4      False\n",
      "       ...  \n",
      "369    False\n",
      "370    False\n",
      "371    False\n",
      "372    False\n",
      "373    False\n",
      "Length: 374, dtype: bool\n"
     ]
    }
   ],
   "source": [
    "# TODO: Kiểm tra duplicate, lưu vào 'is_duplicated'\n",
    "is_duplicated = df.duplicated()\n",
    "\n",
    "print(\"Dữ liệu có duplicate? :\", is_duplicated)"
   ]
  },
  {
   "cell_type": "code",
   "execution_count": 5,
   "id": "6c1a54f4",
   "metadata": {},
   "outputs": [],
   "source": [
    "# TODO: Nếu có duplicate thì loại bỏ nó\n",
    "df = df.drop_duplicates()"
   ]
  },
  {
   "attachments": {},
   "cell_type": "markdown",
   "id": "7e2e7e60",
   "metadata": {},
   "source": [
    "### 4.3. Khám phá cột\n",
    "\n",
    "- Nhận xét cột: kiểu dữ liệu của các cột đều hợp lý."
   ]
  },
  {
   "cell_type": "code",
   "execution_count": 6,
   "id": "28d90f00",
   "metadata": {},
   "outputs": [
    {
     "name": "stdout",
     "output_type": "stream",
     "text": [
      "Tên cột và kiểu dữ liệu:\n",
      "Person ID                    int64\n",
      "Gender                      object\n",
      "Age                          int64\n",
      "Occupation                  object\n",
      "Sleep Duration             float64\n",
      "Quality of Sleep             int64\n",
      "Physical Activity Level      int64\n",
      "Stress Level                 int64\n",
      "BMI Category                object\n",
      "Blood Pressure              object\n",
      "Heart Rate                   int64\n",
      "Daily Steps                  int64\n",
      "Sleep Disorder              object\n",
      "dtype: object\n"
     ]
    }
   ],
   "source": [
    "# TODO: Liệt kê tên các cột và kiểu dữ liệu tương ứng\n",
    "\n",
    "# Liệt kê tên các cột và kiểu dữ liệu\n",
    "column_types = df.dtypes\n",
    "\n",
    "# Hiển thị thông tin\n",
    "print(\"Tên cột và kiểu dữ liệu:\")\n",
    "print(column_types)"
   ]
  },
  {
   "attachments": {},
   "cell_type": "markdown",
   "id": "ad678b52",
   "metadata": {},
   "source": [
    "### 4.4. Loại bỏ các dòng và cột vô nghĩa\n",
    "\n",
    "- **TODO**: Các dòng trong dataset đều là các khảo sát được thực hiện ở các cá nhân khác nhau nên đều có nghĩa.\n"
   ]
  },
  {
   "cell_type": "code",
   "execution_count": 7,
   "id": "a1559572",
   "metadata": {},
   "outputs": [],
   "source": [
    "# TODO: Loại bỏ các dòng vô nghĩa"
   ]
  },
  {
   "attachments": {},
   "cell_type": "markdown",
   "id": "344df356",
   "metadata": {},
   "source": [
    "- **TODO**: Cột Person ID là vô nghĩa do có thể thấy nó được sắp xếp theo thứ tự tăng dần, nên ta chỉ cần truy xuất vị trí index ta sẽ có được Person ID nếu cần."
   ]
  },
  {
   "cell_type": "code",
   "execution_count": 8,
   "id": "ae52525e",
   "metadata": {},
   "outputs": [
    {
     "data": {
      "text/html": [
       "<div>\n",
       "<style scoped>\n",
       "    .dataframe tbody tr th:only-of-type {\n",
       "        vertical-align: middle;\n",
       "    }\n",
       "\n",
       "    .dataframe tbody tr th {\n",
       "        vertical-align: top;\n",
       "    }\n",
       "\n",
       "    .dataframe thead th {\n",
       "        text-align: right;\n",
       "    }\n",
       "</style>\n",
       "<table border=\"1\" class=\"dataframe\">\n",
       "  <thead>\n",
       "    <tr style=\"text-align: right;\">\n",
       "      <th></th>\n",
       "      <th>Gender</th>\n",
       "      <th>Age</th>\n",
       "      <th>Occupation</th>\n",
       "      <th>Sleep Duration</th>\n",
       "      <th>Quality of Sleep</th>\n",
       "      <th>Physical Activity Level</th>\n",
       "      <th>Stress Level</th>\n",
       "      <th>BMI Category</th>\n",
       "      <th>Blood Pressure</th>\n",
       "      <th>Heart Rate</th>\n",
       "      <th>Daily Steps</th>\n",
       "      <th>Sleep Disorder</th>\n",
       "    </tr>\n",
       "  </thead>\n",
       "  <tbody>\n",
       "    <tr>\n",
       "      <th>0</th>\n",
       "      <td>Male</td>\n",
       "      <td>27</td>\n",
       "      <td>Software Engineer</td>\n",
       "      <td>6.1</td>\n",
       "      <td>6</td>\n",
       "      <td>42</td>\n",
       "      <td>6</td>\n",
       "      <td>Overweight</td>\n",
       "      <td>126/83</td>\n",
       "      <td>77</td>\n",
       "      <td>4200</td>\n",
       "      <td>NaN</td>\n",
       "    </tr>\n",
       "    <tr>\n",
       "      <th>1</th>\n",
       "      <td>Male</td>\n",
       "      <td>28</td>\n",
       "      <td>Doctor</td>\n",
       "      <td>6.2</td>\n",
       "      <td>6</td>\n",
       "      <td>60</td>\n",
       "      <td>8</td>\n",
       "      <td>Normal</td>\n",
       "      <td>125/80</td>\n",
       "      <td>75</td>\n",
       "      <td>10000</td>\n",
       "      <td>NaN</td>\n",
       "    </tr>\n",
       "    <tr>\n",
       "      <th>2</th>\n",
       "      <td>Male</td>\n",
       "      <td>28</td>\n",
       "      <td>Doctor</td>\n",
       "      <td>6.2</td>\n",
       "      <td>6</td>\n",
       "      <td>60</td>\n",
       "      <td>8</td>\n",
       "      <td>Normal</td>\n",
       "      <td>125/80</td>\n",
       "      <td>75</td>\n",
       "      <td>10000</td>\n",
       "      <td>NaN</td>\n",
       "    </tr>\n",
       "    <tr>\n",
       "      <th>3</th>\n",
       "      <td>Male</td>\n",
       "      <td>28</td>\n",
       "      <td>Sales Representative</td>\n",
       "      <td>5.9</td>\n",
       "      <td>4</td>\n",
       "      <td>30</td>\n",
       "      <td>8</td>\n",
       "      <td>Obese</td>\n",
       "      <td>140/90</td>\n",
       "      <td>85</td>\n",
       "      <td>3000</td>\n",
       "      <td>Sleep Apnea</td>\n",
       "    </tr>\n",
       "    <tr>\n",
       "      <th>4</th>\n",
       "      <td>Male</td>\n",
       "      <td>28</td>\n",
       "      <td>Sales Representative</td>\n",
       "      <td>5.9</td>\n",
       "      <td>4</td>\n",
       "      <td>30</td>\n",
       "      <td>8</td>\n",
       "      <td>Obese</td>\n",
       "      <td>140/90</td>\n",
       "      <td>85</td>\n",
       "      <td>3000</td>\n",
       "      <td>Sleep Apnea</td>\n",
       "    </tr>\n",
       "    <tr>\n",
       "      <th>...</th>\n",
       "      <td>...</td>\n",
       "      <td>...</td>\n",
       "      <td>...</td>\n",
       "      <td>...</td>\n",
       "      <td>...</td>\n",
       "      <td>...</td>\n",
       "      <td>...</td>\n",
       "      <td>...</td>\n",
       "      <td>...</td>\n",
       "      <td>...</td>\n",
       "      <td>...</td>\n",
       "      <td>...</td>\n",
       "    </tr>\n",
       "    <tr>\n",
       "      <th>369</th>\n",
       "      <td>Female</td>\n",
       "      <td>59</td>\n",
       "      <td>Nurse</td>\n",
       "      <td>8.1</td>\n",
       "      <td>9</td>\n",
       "      <td>75</td>\n",
       "      <td>3</td>\n",
       "      <td>Overweight</td>\n",
       "      <td>140/95</td>\n",
       "      <td>68</td>\n",
       "      <td>7000</td>\n",
       "      <td>Sleep Apnea</td>\n",
       "    </tr>\n",
       "    <tr>\n",
       "      <th>370</th>\n",
       "      <td>Female</td>\n",
       "      <td>59</td>\n",
       "      <td>Nurse</td>\n",
       "      <td>8.0</td>\n",
       "      <td>9</td>\n",
       "      <td>75</td>\n",
       "      <td>3</td>\n",
       "      <td>Overweight</td>\n",
       "      <td>140/95</td>\n",
       "      <td>68</td>\n",
       "      <td>7000</td>\n",
       "      <td>Sleep Apnea</td>\n",
       "    </tr>\n",
       "    <tr>\n",
       "      <th>371</th>\n",
       "      <td>Female</td>\n",
       "      <td>59</td>\n",
       "      <td>Nurse</td>\n",
       "      <td>8.1</td>\n",
       "      <td>9</td>\n",
       "      <td>75</td>\n",
       "      <td>3</td>\n",
       "      <td>Overweight</td>\n",
       "      <td>140/95</td>\n",
       "      <td>68</td>\n",
       "      <td>7000</td>\n",
       "      <td>Sleep Apnea</td>\n",
       "    </tr>\n",
       "    <tr>\n",
       "      <th>372</th>\n",
       "      <td>Female</td>\n",
       "      <td>59</td>\n",
       "      <td>Nurse</td>\n",
       "      <td>8.1</td>\n",
       "      <td>9</td>\n",
       "      <td>75</td>\n",
       "      <td>3</td>\n",
       "      <td>Overweight</td>\n",
       "      <td>140/95</td>\n",
       "      <td>68</td>\n",
       "      <td>7000</td>\n",
       "      <td>Sleep Apnea</td>\n",
       "    </tr>\n",
       "    <tr>\n",
       "      <th>373</th>\n",
       "      <td>Female</td>\n",
       "      <td>59</td>\n",
       "      <td>Nurse</td>\n",
       "      <td>8.1</td>\n",
       "      <td>9</td>\n",
       "      <td>75</td>\n",
       "      <td>3</td>\n",
       "      <td>Overweight</td>\n",
       "      <td>140/95</td>\n",
       "      <td>68</td>\n",
       "      <td>7000</td>\n",
       "      <td>Sleep Apnea</td>\n",
       "    </tr>\n",
       "  </tbody>\n",
       "</table>\n",
       "<p>374 rows × 12 columns</p>\n",
       "</div>"
      ],
      "text/plain": [
       "     Gender  Age            Occupation  Sleep Duration  Quality of Sleep  \\\n",
       "0      Male   27     Software Engineer             6.1                 6   \n",
       "1      Male   28                Doctor             6.2                 6   \n",
       "2      Male   28                Doctor             6.2                 6   \n",
       "3      Male   28  Sales Representative             5.9                 4   \n",
       "4      Male   28  Sales Representative             5.9                 4   \n",
       "..      ...  ...                   ...             ...               ...   \n",
       "369  Female   59                 Nurse             8.1                 9   \n",
       "370  Female   59                 Nurse             8.0                 9   \n",
       "371  Female   59                 Nurse             8.1                 9   \n",
       "372  Female   59                 Nurse             8.1                 9   \n",
       "373  Female   59                 Nurse             8.1                 9   \n",
       "\n",
       "     Physical Activity Level  Stress Level BMI Category Blood Pressure  \\\n",
       "0                         42             6   Overweight         126/83   \n",
       "1                         60             8       Normal         125/80   \n",
       "2                         60             8       Normal         125/80   \n",
       "3                         30             8        Obese         140/90   \n",
       "4                         30             8        Obese         140/90   \n",
       "..                       ...           ...          ...            ...   \n",
       "369                       75             3   Overweight         140/95   \n",
       "370                       75             3   Overweight         140/95   \n",
       "371                       75             3   Overweight         140/95   \n",
       "372                       75             3   Overweight         140/95   \n",
       "373                       75             3   Overweight         140/95   \n",
       "\n",
       "     Heart Rate  Daily Steps Sleep Disorder  \n",
       "0            77         4200            NaN  \n",
       "1            75        10000            NaN  \n",
       "2            75        10000            NaN  \n",
       "3            85         3000    Sleep Apnea  \n",
       "4            85         3000    Sleep Apnea  \n",
       "..          ...          ...            ...  \n",
       "369          68         7000    Sleep Apnea  \n",
       "370          68         7000    Sleep Apnea  \n",
       "371          68         7000    Sleep Apnea  \n",
       "372          68         7000    Sleep Apnea  \n",
       "373          68         7000    Sleep Apnea  \n",
       "\n",
       "[374 rows x 12 columns]"
      ]
     },
     "execution_count": 8,
     "metadata": {},
     "output_type": "execute_result"
    }
   ],
   "source": [
    "# TODO: Loại bỏ các cột vô nghĩa\n",
    "df = df.drop(columns=['Person ID'])\n",
    "df"
   ]
  },
  {
   "attachments": {},
   "cell_type": "markdown",
   "id": "eb522ecb",
   "metadata": {},
   "source": [
    "### 4.5. Xử lý data thiếu và chuyển đổi kiểu dữ liệu\n",
    "\n",
    "- Bảng tóm tắt của Dataframe:"
   ]
  },
  {
   "cell_type": "code",
   "execution_count": 9,
   "id": "f6a0a8c1",
   "metadata": {},
   "outputs": [
    {
     "name": "stdout",
     "output_type": "stream",
     "text": [
      "<class 'pandas.core.frame.DataFrame'>\n",
      "RangeIndex: 374 entries, 0 to 373\n",
      "Data columns (total 12 columns):\n",
      " #   Column                   Non-Null Count  Dtype  \n",
      "---  ------                   --------------  -----  \n",
      " 0   Gender                   374 non-null    object \n",
      " 1   Age                      374 non-null    int64  \n",
      " 2   Occupation               374 non-null    object \n",
      " 3   Sleep Duration           374 non-null    float64\n",
      " 4   Quality of Sleep         374 non-null    int64  \n",
      " 5   Physical Activity Level  374 non-null    int64  \n",
      " 6   Stress Level             374 non-null    int64  \n",
      " 7   BMI Category             374 non-null    object \n",
      " 8   Blood Pressure           374 non-null    object \n",
      " 9   Heart Rate               374 non-null    int64  \n",
      " 10  Daily Steps              374 non-null    int64  \n",
      " 11  Sleep Disorder           155 non-null    object \n",
      "dtypes: float64(1), int64(6), object(5)\n",
      "memory usage: 35.2+ KB\n"
     ]
    }
   ],
   "source": [
    "# TODO: Hiển thị bảng tóm tắt của Dataframe\n",
    "df.info()"
   ]
  },
  {
   "attachments": {},
   "cell_type": "markdown",
   "id": "b94d79b0",
   "metadata": {},
   "source": [
    "- **Nhận xét:** Ngoài cột `Sleep Disorder` ra thì các cột còn lại không có dữ liệu thiếu. Sở dĩ cột `Sleep Disorder` tồn tại giá trị thiếu là vì tác giả sử dụng `None` để đánh dấu những người không bị rối loạn giấc ngủ (ngủ bình thường). `Pandas` nhận diện các ô `None` thành các ô bị trống, thực chất không phải vậy. Vì vậy, nhóm em sẽ chuyển các giá trị `None` thành `No` để phù hợp với `Pandas`."
   ]
  },
  {
   "cell_type": "code",
   "execution_count": 10,
   "id": "084f3df9",
   "metadata": {},
   "outputs": [
    {
     "data": {
      "text/plain": [
       "Sleep Disorder\n",
       "No             219\n",
       "Sleep Apnea     78\n",
       "Insomnia        77\n",
       "Name: count, dtype: int64"
      ]
     },
     "execution_count": 10,
     "metadata": {},
     "output_type": "execute_result"
    }
   ],
   "source": [
    "# TODO: Xử lý các dòng bị thiếu\n",
    "df['Sleep Disorder'].fillna('No', inplace=True)\n",
    "df['Sleep Disorder'].value_counts()"
   ]
  },
  {
   "attachments": {},
   "cell_type": "markdown",
   "id": "3ef56a11",
   "metadata": {},
   "source": [
    "- Đối với phần chuyển đổi kiểu dữ liệu, nhìn chung có vẻ tất cả đều đúng kiểu dữ liệu, nhưng nếu để ý thì cột `Blood Pressure` đang chứa cả giá trị của tâm thu và tâm trương (giá trị khi đo huyết áp) và có kiểu là `object`. Để thuận tiện cho việc xử lý sau này, nhóm em sẽ tách cột `Blood Pressure` thành 2 cột `Systolic`(tâm thu) và `Diastolic`(tâm trương) có kiểu là `int64`. Như vậy bộ dữ liệu sẽ có tổng cộng 9 cột `Numeric` và 4 cột `Categorical` (không tính cột `Person ID`)."
   ]
  },
  {
   "cell_type": "code",
   "execution_count": 11,
   "id": "74b9565b",
   "metadata": {},
   "outputs": [
    {
     "data": {
      "text/html": [
       "<div>\n",
       "<style scoped>\n",
       "    .dataframe tbody tr th:only-of-type {\n",
       "        vertical-align: middle;\n",
       "    }\n",
       "\n",
       "    .dataframe tbody tr th {\n",
       "        vertical-align: top;\n",
       "    }\n",
       "\n",
       "    .dataframe thead th {\n",
       "        text-align: right;\n",
       "    }\n",
       "</style>\n",
       "<table border=\"1\" class=\"dataframe\">\n",
       "  <thead>\n",
       "    <tr style=\"text-align: right;\">\n",
       "      <th></th>\n",
       "      <th>Gender</th>\n",
       "      <th>Age</th>\n",
       "      <th>Occupation</th>\n",
       "      <th>Sleep Duration</th>\n",
       "      <th>Quality of Sleep</th>\n",
       "      <th>Physical Activity Level</th>\n",
       "      <th>Stress Level</th>\n",
       "      <th>BMI Category</th>\n",
       "      <th>Heart Rate</th>\n",
       "      <th>Daily Steps</th>\n",
       "      <th>Sleep Disorder</th>\n",
       "      <th>Systolic</th>\n",
       "      <th>Diastolic</th>\n",
       "    </tr>\n",
       "  </thead>\n",
       "  <tbody>\n",
       "    <tr>\n",
       "      <th>154</th>\n",
       "      <td>Male</td>\n",
       "      <td>39</td>\n",
       "      <td>Lawyer</td>\n",
       "      <td>7.2</td>\n",
       "      <td>8</td>\n",
       "      <td>60</td>\n",
       "      <td>5</td>\n",
       "      <td>Normal</td>\n",
       "      <td>68</td>\n",
       "      <td>8000</td>\n",
       "      <td>No</td>\n",
       "      <td>130</td>\n",
       "      <td>85</td>\n",
       "    </tr>\n",
       "    <tr>\n",
       "      <th>243</th>\n",
       "      <td>Female</td>\n",
       "      <td>44</td>\n",
       "      <td>Teacher</td>\n",
       "      <td>6.5</td>\n",
       "      <td>7</td>\n",
       "      <td>45</td>\n",
       "      <td>4</td>\n",
       "      <td>Overweight</td>\n",
       "      <td>65</td>\n",
       "      <td>6000</td>\n",
       "      <td>Insomnia</td>\n",
       "      <td>135</td>\n",
       "      <td>90</td>\n",
       "    </tr>\n",
       "    <tr>\n",
       "      <th>251</th>\n",
       "      <td>Female</td>\n",
       "      <td>45</td>\n",
       "      <td>Teacher</td>\n",
       "      <td>6.8</td>\n",
       "      <td>7</td>\n",
       "      <td>30</td>\n",
       "      <td>6</td>\n",
       "      <td>Overweight</td>\n",
       "      <td>65</td>\n",
       "      <td>6000</td>\n",
       "      <td>Insomnia</td>\n",
       "      <td>135</td>\n",
       "      <td>90</td>\n",
       "    </tr>\n",
       "    <tr>\n",
       "      <th>222</th>\n",
       "      <td>Male</td>\n",
       "      <td>44</td>\n",
       "      <td>Salesperson</td>\n",
       "      <td>6.3</td>\n",
       "      <td>6</td>\n",
       "      <td>45</td>\n",
       "      <td>7</td>\n",
       "      <td>Overweight</td>\n",
       "      <td>72</td>\n",
       "      <td>6000</td>\n",
       "      <td>Insomnia</td>\n",
       "      <td>130</td>\n",
       "      <td>85</td>\n",
       "    </tr>\n",
       "    <tr>\n",
       "      <th>128</th>\n",
       "      <td>Male</td>\n",
       "      <td>38</td>\n",
       "      <td>Lawyer</td>\n",
       "      <td>7.3</td>\n",
       "      <td>8</td>\n",
       "      <td>60</td>\n",
       "      <td>5</td>\n",
       "      <td>Normal</td>\n",
       "      <td>68</td>\n",
       "      <td>8000</td>\n",
       "      <td>No</td>\n",
       "      <td>130</td>\n",
       "      <td>85</td>\n",
       "    </tr>\n",
       "  </tbody>\n",
       "</table>\n",
       "</div>"
      ],
      "text/plain": [
       "     Gender  Age   Occupation  Sleep Duration  Quality of Sleep  \\\n",
       "154    Male   39       Lawyer             7.2                 8   \n",
       "243  Female   44      Teacher             6.5                 7   \n",
       "251  Female   45      Teacher             6.8                 7   \n",
       "222    Male   44  Salesperson             6.3                 6   \n",
       "128    Male   38       Lawyer             7.3                 8   \n",
       "\n",
       "     Physical Activity Level  Stress Level BMI Category  Heart Rate  \\\n",
       "154                       60             5       Normal          68   \n",
       "243                       45             4   Overweight          65   \n",
       "251                       30             6   Overweight          65   \n",
       "222                       45             7   Overweight          72   \n",
       "128                       60             5       Normal          68   \n",
       "\n",
       "     Daily Steps Sleep Disorder Systolic Diastolic  \n",
       "154         8000             No      130        85  \n",
       "243         6000       Insomnia      135        90  \n",
       "251         6000       Insomnia      135        90  \n",
       "222         6000       Insomnia      130        85  \n",
       "128         8000             No      130        85  "
      ]
     },
     "execution_count": 11,
     "metadata": {},
     "output_type": "execute_result"
    }
   ],
   "source": [
    "# TODO: Chuyển đổi kiểu dữ liệu cho đúng\n",
    "df[['Systolic', 'Diastolic']] = df['Blood Pressure'].str.extract(r'(\\d+)\\/(\\d+)')\n",
    "df.drop('Blood Pressure', axis=1, inplace=True)\n",
    "df.sample(5)"
   ]
  },
  {
   "attachments": {},
   "cell_type": "markdown",
   "id": "a48723d2",
   "metadata": {},
   "source": [
    "### 4.6. Phân bố dữ liệu\n",
    "\n",
    "#### 4.6.1. Dữ liệu Numeric\n",
    "\n",
    "- Bảng giá trị lượng tử Numeric:"
   ]
  },
  {
   "cell_type": "code",
   "execution_count": 12,
   "id": "e4070be8",
   "metadata": {},
   "outputs": [
    {
     "data": {
      "text/html": [
       "<div>\n",
       "<style scoped>\n",
       "    .dataframe tbody tr th:only-of-type {\n",
       "        vertical-align: middle;\n",
       "    }\n",
       "\n",
       "    .dataframe tbody tr th {\n",
       "        vertical-align: top;\n",
       "    }\n",
       "\n",
       "    .dataframe thead th {\n",
       "        text-align: right;\n",
       "    }\n",
       "</style>\n",
       "<table border=\"1\" class=\"dataframe\">\n",
       "  <thead>\n",
       "    <tr style=\"text-align: right;\">\n",
       "      <th></th>\n",
       "      <th>Age</th>\n",
       "      <th>Sleep Duration</th>\n",
       "      <th>Quality of Sleep</th>\n",
       "      <th>Physical Activity Level</th>\n",
       "      <th>Stress Level</th>\n",
       "      <th>Heart Rate</th>\n",
       "      <th>Daily Steps</th>\n",
       "    </tr>\n",
       "  </thead>\n",
       "  <tbody>\n",
       "    <tr>\n",
       "      <th>min</th>\n",
       "      <td>27.00</td>\n",
       "      <td>5.8</td>\n",
       "      <td>4.0</td>\n",
       "      <td>30.0</td>\n",
       "      <td>3.0</td>\n",
       "      <td>65.0</td>\n",
       "      <td>3000.0</td>\n",
       "    </tr>\n",
       "    <tr>\n",
       "      <th>25%</th>\n",
       "      <td>35.25</td>\n",
       "      <td>6.4</td>\n",
       "      <td>6.0</td>\n",
       "      <td>45.0</td>\n",
       "      <td>4.0</td>\n",
       "      <td>68.0</td>\n",
       "      <td>5600.0</td>\n",
       "    </tr>\n",
       "    <tr>\n",
       "      <th>50%</th>\n",
       "      <td>43.00</td>\n",
       "      <td>7.2</td>\n",
       "      <td>7.0</td>\n",
       "      <td>60.0</td>\n",
       "      <td>5.0</td>\n",
       "      <td>70.0</td>\n",
       "      <td>7000.0</td>\n",
       "    </tr>\n",
       "    <tr>\n",
       "      <th>75%</th>\n",
       "      <td>50.00</td>\n",
       "      <td>7.8</td>\n",
       "      <td>8.0</td>\n",
       "      <td>75.0</td>\n",
       "      <td>7.0</td>\n",
       "      <td>72.0</td>\n",
       "      <td>8000.0</td>\n",
       "    </tr>\n",
       "    <tr>\n",
       "      <th>max</th>\n",
       "      <td>59.00</td>\n",
       "      <td>8.5</td>\n",
       "      <td>9.0</td>\n",
       "      <td>90.0</td>\n",
       "      <td>8.0</td>\n",
       "      <td>86.0</td>\n",
       "      <td>10000.0</td>\n",
       "    </tr>\n",
       "  </tbody>\n",
       "</table>\n",
       "</div>"
      ],
      "text/plain": [
       "       Age  Sleep Duration  Quality of Sleep  Physical Activity Level  \\\n",
       "min  27.00             5.8               4.0                     30.0   \n",
       "25%  35.25             6.4               6.0                     45.0   \n",
       "50%  43.00             7.2               7.0                     60.0   \n",
       "75%  50.00             7.8               8.0                     75.0   \n",
       "max  59.00             8.5               9.0                     90.0   \n",
       "\n",
       "     Stress Level  Heart Rate  Daily Steps  \n",
       "min           3.0        65.0       3000.0  \n",
       "25%           4.0        68.0       5600.0  \n",
       "50%           5.0        70.0       7000.0  \n",
       "75%           7.0        72.0       8000.0  \n",
       "max           8.0        86.0      10000.0  "
      ]
     },
     "execution_count": 12,
     "metadata": {},
     "output_type": "execute_result"
    }
   ],
   "source": [
    "# TODO: Tính giá trị lượng tử (min, 25%, 50%, 75%, max) của từng cột Numeric, lưu vào 'numeric_col_profile'\n",
    "# 'numeric_col_profile' là 1 dataframe có col là các cột của df, index là 5 giá trị lượng tử\n",
    "\n",
    "\n",
    "# Lọc ra các cột numeric\n",
    "numeric_columns = df.select_dtypes(include=['float64', 'int64'])\n",
    "\n",
    "# Tính giá trị lượng tử (min, 25%, 50%, 75%, max) cho mỗi cột numeric\n",
    "def calculate_quantiles(column):\n",
    "    return pd.Series(np.percentile(column, [0, 25, 50, 75, 100]), index=['min', '25%', '50%', '75%', 'max'])\n",
    "\n",
    "numeric_col_profile = numeric_columns.apply(calculate_quantiles)\n",
    "\n",
    "# Hiển thị DataFrame mới\n",
    "numeric_col_profile\n"
   ]
  },
  {
   "attachments": {},
   "cell_type": "markdown",
   "id": "cbf0305f",
   "metadata": {},
   "source": [
    "- Biểu đồ phân bố dữ liệu Numeric:"
   ]
  },
  {
   "cell_type": "code",
   "execution_count": 13,
   "id": "e00319ba",
   "metadata": {},
   "outputs": [
    {
     "data": {
      "image/png": "[encoded data removed]",
      "text/plain": [
       "<Figure size 2000x1000 with 9 Axes>"
      ]
     },
     "metadata": {},
     "output_type": "display_data"
    }
   ],
   "source": [
    "# TODO: In ra biểu đồ cột phân bố dữ liệu Numeric dựa vào 'numeric_col_profile'\n",
    "\n",
    "numeric_columns.hist(bins=10, figsize=(20,10))\n",
    "plt.show()"
   ]
  },
  {
   "attachments": {},
   "cell_type": "markdown",
   "id": "b561c6b6",
   "metadata": {},
   "source": [
    "*Nhận xét về sự phân bố dữ liệu của các cột Numeric:*\n",
    "1. **Age (Độ Tuổi):**\n",
    "   - Độ tuổi của người được khảo sát nằm trong khoảng 27-59.\n",
    "   - Phần lớn người có độ tuổi ở mức trung bình (50% ở khoảng 43 tuổi), với người đông nhất ở tuổi 45.\n",
    "   - Tuổi tăng dần từ 27 đến 59.\n",
    "\n",
    "2. **Sleep Duration (Thời Gian Ngủ):**\n",
    "   - Thời gian ngủ trung bình của người được khảo sát là 7.2 giờ.\n",
    "   - Người có thời gian ngủ ít nhất là 5.8 giờ và nhiều nhất là 8.5 giờ.\n",
    "\n",
    "3. **Quality of Sleep (Chất lượng Ngủ):**\n",
    "   - Chất lượng ngủ trung bình là 7.0 điểm trên thang điểm từ 1 đến 9.\n",
    "   - Người có chất lượng ngủ thấp nhất là 4.0 và cao nhất là 9.0.\n",
    "\n",
    "4. **Physical Activity Level (Mức Độ Hoạt Động Thể Chất):**\n",
    "   - Mức độ hoạt động thể chất trung bình là 60.0.\n",
    "   - Người có mức độ hoạt động thấp nhất là 30.0 và cao nhất là 90.0.\n",
    "\n",
    "5. **Stress Level (Mức Độ Stress):**\n",
    "   - Mức độ stress trung bình là 5.0.\n",
    "   - Người có mức độ stress thấp nhất là 3.0 và cao nhất là 8.0.\n",
    "\n",
    "6. **Heart Rate (Nhịp Tim):**\n",
    "   - Nhịp tim trung bình là 70.0 bpm.\n",
    "   - Người có nhịp tim thấp nhất là 65.0 bpm và cao nhất là 86.0 bpm.\n",
    "\n",
    "7. **Daily Steps (Bước Chân Hằng Ngày):**\n",
    "   - Số bước chân trung bình là 7000 bước/ngày.\n",
    "   - Người có số bước chân ít nhất là 3000 và nhiều nhất là 10000 bước/ngày.\n",
    "\n",
    "Những thông tin trên cung cấp cái nhìn tổng quan về các chỉ số quan trọng liên quan đến sức khỏe và lối sống của người được khảo sát."
   ]
  },
  {
   "attachments": {},
   "cell_type": "markdown",
   "id": "c4b60ff7",
   "metadata": {},
   "source": [
    "#### 4.6.2. Dữ liệu Categorical\n",
    "\n",
    "- Bảng phân bố dữ liệu Categorical:"
   ]
  },
  {
   "cell_type": "code",
   "execution_count": 14,
   "id": "30fbda06",
   "metadata": {},
   "outputs": [
    {
     "data": {
      "text/html": [
       "<div>\n",
       "<style scoped>\n",
       "    .dataframe tbody tr th:only-of-type {\n",
       "        vertical-align: middle;\n",
       "    }\n",
       "\n",
       "    .dataframe tbody tr th {\n",
       "        vertical-align: top;\n",
       "    }\n",
       "\n",
       "    .dataframe thead th {\n",
       "        text-align: right;\n",
       "    }\n",
       "</style>\n",
       "<table border=\"1\" class=\"dataframe\">\n",
       "  <thead>\n",
       "    <tr style=\"text-align: right;\">\n",
       "      <th></th>\n",
       "      <th>Gender</th>\n",
       "      <th>Occupation</th>\n",
       "      <th>BMI Category</th>\n",
       "      <th>Sleep Disorder</th>\n",
       "    </tr>\n",
       "  </thead>\n",
       "  <tbody>\n",
       "    <tr>\n",
       "      <th>num_diff_vals</th>\n",
       "      <td>2</td>\n",
       "      <td>11</td>\n",
       "      <td>4</td>\n",
       "      <td>3</td>\n",
       "    </tr>\n",
       "    <tr>\n",
       "      <th>distribution</th>\n",
       "      <td>{'Male': 189, 'Female': 185}</td>\n",
       "      <td>{'Nurse': 73, 'Doctor': 71, 'Engineer': 63, 'L...</td>\n",
       "      <td>{'Normal': 195, 'Overweight': 148, 'Normal Wei...</td>\n",
       "      <td>{'No': 219, 'Sleep Apnea': 78, 'Insomnia': 77}</td>\n",
       "    </tr>\n",
       "  </tbody>\n",
       "</table>\n",
       "</div>"
      ],
      "text/plain": [
       "                                     Gender  \\\n",
       "num_diff_vals                             2   \n",
       "distribution   {'Male': 189, 'Female': 185}   \n",
       "\n",
       "                                                      Occupation  \\\n",
       "num_diff_vals                                                 11   \n",
       "distribution   {'Nurse': 73, 'Doctor': 71, 'Engineer': 63, 'L...   \n",
       "\n",
       "                                                    BMI Category  \\\n",
       "num_diff_vals                                                  4   \n",
       "distribution   {'Normal': 195, 'Overweight': 148, 'Normal Wei...   \n",
       "\n",
       "                                               Sleep Disorder  \n",
       "num_diff_vals                                               3  \n",
       "distribution   {'No': 219, 'Sleep Apnea': 78, 'Insomnia': 77}  "
      ]
     },
     "execution_count": 14,
     "metadata": {},
     "output_type": "execute_result"
    }
   ],
   "source": [
    "# TODO: Tính các giá trị unique của mỗi cột, và 1 dictionary ứng với mỗi cột có key là giá trị unique, value là số lượng của nó trong cột\n",
    "# Lưu vào 'single_cate_profile' là 1 dataframe có index là số lượng unique của cột và dictionary tương ứng\n",
    "# có col là các cột của df\n",
    "categoricals = df[['Gender', 'Occupation', 'BMI Category', 'Sleep Disorder']]\n",
    "distribution = categoricals.agg(lambda column: column.value_counts().to_dict())\n",
    "single_cate_profile = pd.DataFrame([categoricals.describe().iloc[1], distribution], index=[\"num_diff_vals\", \"distribution\"])\n",
    "\n",
    "single_cate_profile"
   ]
  },
  {
   "attachments": {},
   "cell_type": "markdown",
   "id": "f082113e",
   "metadata": {},
   "source": [
    "- Biểu đồ phân bố dữ liệu Categorical:"
   ]
  },
  {
   "cell_type": "code",
   "execution_count": 15,
   "id": "f907d629",
   "metadata": {},
   "outputs": [
    {
     "data": {
      "text/plain": [
       "array([[<Axes: ylabel='Gender'>, <Axes: ylabel='Occupation'>],\n",
       "       [<Axes: ylabel='BMI Category'>, <Axes: ylabel='Sleep Disorder'>]],\n",
       "      dtype=object)"
      ]
     },
     "execution_count": 15,
     "metadata": {},
     "output_type": "execute_result"
    },
    {
     "data": {
      "image/png": "[encoded data removed]",
      "text/plain": [
       "<Figure size 1500x1500 with 4 Axes>"
      ]
     },
     "metadata": {},
     "output_type": "display_data"
    }
   ],
   "source": [
    "# TODO: In ra biểu đồ hình tròn (pie chart) phân bố dữ liệu Categorical dựa vào 'single_cate_profile'\n",
    "# Ghi rõ chú thích cho từng biểu đồ.\n",
    "counts = categoricals.agg(lambda column: column.value_counts()).fillna(0)\n",
    "counts.plot.pie(subplots=True, layout=(2, 2), figsize=(15, 15), labeldistance=None, autopct=lambda p: '{:.1f}%'.format(round(p, 1)) if p > 0 else '')"
   ]
  },
  {
   "attachments": {},
   "cell_type": "markdown",
   "id": "6976cdcd",
   "metadata": {},
   "source": [
    "- **Nhận xét về các cột Categorical**:\n",
    "    - `Gender`: Tỷ lệ nam nữ là ngang nhau, cho thấy bộ dữ liệu mang tính cân bằng về giới tính.\n",
    "    - `Occupation`: Những người tham gia khảo sát có ngành nghề đa dạng, nhưng trong đó `Doctor` và `Nurse` chiếm phần lớn (tổng hơn 40%). Có thể thấy có rất nhiều nhân viên bệnh viện tham gia vào cuộc khảo sát. Điều này có thể giúp ích cho việc tìm ra phương pháp có giấc ngủ tốt chuẩn nhất (Nhóm em tin rằng bác sĩ và y tá là những người chú trọng giữ sức khoẻ của bản thân, bao gồm chất lượng giấc ngủ).\n",
    "    - `BMI Category`: Chiếm đa số là `Normal`, theo sau là `Overweight`, tỷ lệ giữa người bình thường và người nặng cân, béo phì không quá chênh lệch. Bộ dữ liệu thiếu vắng phân loại `Underweight`(nhẹ cân) là một khuyết điểm lớn vì chúng ta không thể biết liệu nhóm người gầy có ngủ ngon hơn nhóm người béo hay không.\n",
    "    - `Sleep Disorder`: Sự chênh lệch giữa người không bị và bị rối loạn giấc ngủ (bao gồm `Insomnia` và `Sleep Apnea`) là không quá lớn, bộ dữ liệu mang tính cân bằng về chất lượng giấc ngủ.\n",
    "- Một thắc mắc về cột `BMI Category` là giá trị `Normal` và `Normal Weight` khác nhau ở chỗ nào?\n",
    "    - Tác giả của bộ dữ liệu không hề đề cập đến vấn đề này trên Kaggle, một số tài khoản đã hỏi nhưng không có được câu trả lời.\n",
    "    - Theo nhóm em tìm hiểu về bảng phân loại BMI thì 2 giá trị này là như nhau, vậy nên nhóm em quyết định sẽ hợp nhất 2 giá trị thành `Normal`."
   ]
  },
  {
   "cell_type": "code",
   "execution_count": 16,
   "id": "aebaa537",
   "metadata": {},
   "outputs": [
    {
     "data": {
      "text/plain": [
       "BMI Category\n",
       "Normal        216\n",
       "Overweight    148\n",
       "Obese          10\n",
       "Name: count, dtype: int64"
      ]
     },
     "execution_count": 16,
     "metadata": {},
     "output_type": "execute_result"
    }
   ],
   "source": [
    "# TODO: Hợp nhất 2 giá trị 'Normal' và 'Normal Weight' thành 'Normal' trong cột 'BMI Category'\n",
    "df['BMI Category'].replace(['Normal Weight'], 'Normal', inplace=True)\n",
    "df['BMI Category'].value_counts()"
   ]
  },
  {
   "attachments": {},
   "cell_type": "markdown",
   "id": "4a677c78",
   "metadata": {},
   "source": [
    "---\n",
    "## 5. Đặt câu hỏi có ý nghĩa"
   ]
  },
  {
   "attachments": {},
   "cell_type": "markdown",
   "id": "38fe0bea",
   "metadata": {},
   "source": [
    "### 5.1. Câu hỏi 1: ...\n",
    "\n",
    "- Thành viên phụ trách: ...\n",
    "- Mục đích: ...\n",
    "\n",
    "#### 5.1.1. Tiền xử lý\n",
    "\n",
    "- Các bước tiền xử lý:\n",
    "    - ..."
   ]
  },
  {
   "cell_type": "code",
   "execution_count": 17,
   "id": "0949b874",
   "metadata": {},
   "outputs": [],
   "source": [
    "# TODO: Code tiền xử lý câu hỏi 1\n"
   ]
  },
  {
   "attachments": {},
   "cell_type": "markdown",
   "id": "0fd966e0",
   "metadata": {},
   "source": [
    "#### 5.1.2. Phân tích dữ liệu trả lời câu hỏi\n",
    "\n",
    "- Các bước phân tích dữ liệu:\n",
    "    - ..."
   ]
  },
  {
   "cell_type": "code",
   "execution_count": 18,
   "id": "d915a6bb",
   "metadata": {},
   "outputs": [],
   "source": [
    "# TODO: Code phân tích dữ liệu để trả lời câu hỏi 1\n"
   ]
  },
  {
   "attachments": {},
   "cell_type": "markdown",
   "id": "8dd01b2c",
   "metadata": {},
   "source": [
    "### 5.2. Câu hỏi 2: ...\n",
    "\n",
    "- Thành viên phụ trách: ...\n",
    "- Mục đích: ...\n",
    "\n",
    "#### 5.2.1. Tiền xử lý\n",
    "\n",
    "- Các bước tiền xử lý:\n",
    "    - ..."
   ]
  },
  {
   "cell_type": "code",
   "execution_count": 19,
   "id": "584b6254",
   "metadata": {},
   "outputs": [],
   "source": [
    "# TODO: Code tiền xử lý câu hỏi 2\n"
   ]
  },
  {
   "attachments": {},
   "cell_type": "markdown",
   "id": "c3a79ffb",
   "metadata": {},
   "source": [
    "#### 5.2.2. Phân tích dữ liệu trả lời câu hỏi\n",
    "\n",
    "- Các bước phân tích dữ liệu:\n",
    "    - ..."
   ]
  },
  {
   "cell_type": "code",
   "execution_count": 20,
   "id": "84be9cc9",
   "metadata": {},
   "outputs": [],
   "source": [
    "# TODO: Code phân tích dữ liệu để trả lời câu hỏi 2\n"
   ]
  },
  {
   "attachments": {},
   "cell_type": "markdown",
   "id": "49fd53e9",
   "metadata": {},
   "source": [
    "### 5.3. Câu hỏi 3: Liệu có mối liên quan nào giữa mức độ hoạt động vận động hàng ngày và chất lượng giấc ngủ?\n",
    "\n",
    "- Thành viên phụ trách: Nguyễn Tấn Khiêm\n",
    "- Mục đích: Điều tra xem liệu việc tăng cường hoạt động vận động có thể ảnh hưởng đến chất lượng giấc ngủ hay không, từ đó có thể đề xuất giải pháp cải thiện giấc ngủ thông qua việc thay đổi mức độ hoạt động hàng ngày.\n",
    "- Ý tưởng thực hiện: Kết hợp dữ liệu về Quality of Sleep với thông tin về Physical Activity Level và Daily Steps để xác định mức độ ảnh hưởng của chất lượng giấc ngủ đối với hiệu suất công việc và sức khỏe tổng thể.\n",
    "\n",
    "#### 5.3.1. Tiền xử lý\n",
    "\n",
    "- Bước tiền xử lý: \n",
    "    - Bước 1: Lọc ra các cột liên quan đến thể chất bao gôm: Physical Activity Level, Daily Steps.\n",
    "    - Bước 2: Đảm bảo rằng không có giá trị thiếu trong các cột 'Physical Activity Level', 'Daily Steps', và 'Quality of Sleep'."
   ]
  },
  {
   "cell_type": "code",
   "execution_count": 21,
   "id": "953c56d4",
   "metadata": {},
   "outputs": [
    {
     "name": "stdout",
     "output_type": "stream",
     "text": [
      "     Physical Activity Level  Daily Steps  Quality of Sleep\n",
      "0                         42         4200                 6\n",
      "1                         60        10000                 6\n",
      "2                         60        10000                 6\n",
      "3                         30         3000                 4\n",
      "4                         30         3000                 4\n",
      "..                       ...          ...               ...\n",
      "369                       75         7000                 9\n",
      "370                       75         7000                 9\n",
      "371                       75         7000                 9\n",
      "372                       75         7000                 9\n",
      "373                       75         7000                 9\n",
      "\n",
      "[374 rows x 3 columns]\n",
      "Số lượng giá trị thiếu trong mỗi cột:\n",
      "Physical Activity Level    0\n",
      "Daily Steps                0\n",
      "Quality of Sleep           0\n",
      "dtype: int64\n"
     ]
    }
   ],
   "source": [
    "# TODO: Code tiền xử lý câu hỏi 3\n",
    " \n",
    "# Bước 1\n",
    "physical_activity_columns = ['Physical Activity Level', 'Daily Steps', 'Quality of Sleep']\n",
    "\n",
    "physical_activity_df = df[physical_activity_columns]\n",
    "print(physical_activity_df)\n",
    "# Bước 2\n",
    "missing_values = physical_activity_df.isnull().sum()\n",
    "\n",
    "# Hiển thị kết quả\n",
    "print(\"Số lượng giá trị thiếu trong mỗi cột:\")\n",
    "print(missing_values)"
   ]
  },
  {
   "attachments": {},
   "cell_type": "markdown",
   "id": "9c1e936f",
   "metadata": {},
   "source": [
    "- Như vậy dữ liệu ở tất cả các cột cần thiết không bị thiếu. Nhưng có thể thấy các giá trị của các cột đều là dạng nummeric nên ta sẽ chuyển tất cả thành dạng numeric cho dễ xử lý."
   ]
  },
  {
   "cell_type": "code",
   "execution_count": 22,
   "id": "4cdaf30d",
   "metadata": {},
   "outputs": [],
   "source": [
    "# Chuyển type sang numeric\n",
    "physical_activity_df['Physical Activity Level'] = pd.to_numeric(physical_activity_df['Physical Activity Level'], errors='coerce')\n",
    "physical_activity_df['Daily Steps'] = pd.to_numeric(physical_activity_df['Daily Steps'], errors='coerce')\n",
    "physical_activity_df['Quality of Sleep'] = pd.to_numeric(physical_activity_df['Quality of Sleep'], errors='coerce')"
   ]
  },
  {
   "attachments": {},
   "cell_type": "markdown",
   "id": "399a64e4",
   "metadata": {},
   "source": [
    "#### 5.3.2. Phân tích dữ liệu trả lời câu hỏi\n",
    "\n",
    "- Các bước phân tích dữ liệu:\n",
    "    - Bước 1: Xác định các phân vị của các cột.\n",
    "    - Bước 2: Các giá trị của từng cột sẽ được chia theo phân vị, các giá trị nằm trong khoảng Minimum đến Quartile 1 sẽ là 1(ít/kém), nằm trong khoảng hơn Quartile 1 và Quartile 2 sẽ là 2(trung bình), từ hơn Quartile 2 đến Quartile 3 là 3(khá) và từ hơn Quartile 3 Maximum sẽ là 4(tốt).\n",
    "    - Bước 3: Đếm xem sự xuất hiện của các giá trị 1,2,3,4 của 'Physical Activity Level' và 'Daily Steps' như thế nào theo nhóm 1,2,3,4 của 'Quality of Sleep'\n",
    "    - Bước 4: Sử dụng biểu đồ scatter để trực quan hóa."
   ]
  },
  {
   "cell_type": "code",
   "execution_count": 23,
   "id": "2b931011",
   "metadata": {},
   "outputs": [
    {
     "data": {
      "text/html": [
       "<div>\n",
       "<style scoped>\n",
       "    .dataframe tbody tr th:only-of-type {\n",
       "        vertical-align: middle;\n",
       "    }\n",
       "\n",
       "    .dataframe tbody tr th {\n",
       "        vertical-align: top;\n",
       "    }\n",
       "\n",
       "    .dataframe thead th {\n",
       "        text-align: right;\n",
       "    }\n",
       "</style>\n",
       "<table border=\"1\" class=\"dataframe\">\n",
       "  <thead>\n",
       "    <tr style=\"text-align: right;\">\n",
       "      <th></th>\n",
       "      <th>Physical Activity Level</th>\n",
       "      <th>Daily Steps</th>\n",
       "      <th>Quality of Sleep</th>\n",
       "    </tr>\n",
       "  </thead>\n",
       "  <tbody>\n",
       "    <tr>\n",
       "      <th>0.00</th>\n",
       "      <td>30.0</td>\n",
       "      <td>3000.0</td>\n",
       "      <td>4.0</td>\n",
       "    </tr>\n",
       "    <tr>\n",
       "      <th>0.25</th>\n",
       "      <td>45.0</td>\n",
       "      <td>5600.0</td>\n",
       "      <td>6.0</td>\n",
       "    </tr>\n",
       "    <tr>\n",
       "      <th>0.50</th>\n",
       "      <td>60.0</td>\n",
       "      <td>7000.0</td>\n",
       "      <td>7.0</td>\n",
       "    </tr>\n",
       "    <tr>\n",
       "      <th>0.75</th>\n",
       "      <td>75.0</td>\n",
       "      <td>8000.0</td>\n",
       "      <td>8.0</td>\n",
       "    </tr>\n",
       "    <tr>\n",
       "      <th>1.00</th>\n",
       "      <td>90.0</td>\n",
       "      <td>10000.0</td>\n",
       "      <td>9.0</td>\n",
       "    </tr>\n",
       "  </tbody>\n",
       "</table>\n",
       "</div>"
      ],
      "text/plain": [
       "      Physical Activity Level  Daily Steps  Quality of Sleep\n",
       "0.00                     30.0       3000.0               4.0\n",
       "0.25                     45.0       5600.0               6.0\n",
       "0.50                     60.0       7000.0               7.0\n",
       "0.75                     75.0       8000.0               8.0\n",
       "1.00                     90.0      10000.0               9.0"
      ]
     },
     "execution_count": 23,
     "metadata": {},
     "output_type": "execute_result"
    }
   ],
   "source": [
    "# TODO: Code phân tích dữ liệu để trả lời câu hỏi 3\n",
    "\n",
    "# Bước 1\n",
    "quartiles = physical_activity_df.quantile([0, 0.25, 0.5, 0.75, 1])\n",
    "quartiles\n"
   ]
  },
  {
   "attachments": {},
   "cell_type": "markdown",
   "id": "48f82118",
   "metadata": {},
   "source": [
    "- Như vậy ta sẽ thay các giá trị của 3 cột 'Physical Activity Level', 'Daily Steps', và 'Quality of Sleep' như sau: \n",
    "    - 'Physical Activity Level':\n",
    "        + Từ 30 đến 45: 1.\n",
    "        + Từ 45 đến 60: 2.\n",
    "        + Từ 60 đến 75: 3.\n",
    "        + Từ 75 đến 90: 4.\n",
    "    - 'Daily Steps': \n",
    "        + Từ 3000 đến 5600: 1.\n",
    "        + Từ 5600 đến 7000: 2.\n",
    "        + Từ 7000 đến 8000: 3.\n",
    "        + Từ 8000 đến 10000: 4.\n",
    "    - 'Quality of Sleep':\n",
    "        + Từ 4 đến 6: 1.\n",
    "        + Từ 6 đến 7: 2.\n",
    "        + Từ 7 đến 8: 3.\n",
    "        + Từ 8 đến 9: 4."
   ]
  },
  {
   "cell_type": "code",
   "execution_count": 24,
   "id": "5ef4447f",
   "metadata": {},
   "outputs": [
    {
     "data": {
      "text/html": [
       "<div>\n",
       "<style scoped>\n",
       "    .dataframe tbody tr th:only-of-type {\n",
       "        vertical-align: middle;\n",
       "    }\n",
       "\n",
       "    .dataframe tbody tr th {\n",
       "        vertical-align: top;\n",
       "    }\n",
       "\n",
       "    .dataframe thead th {\n",
       "        text-align: right;\n",
       "    }\n",
       "</style>\n",
       "<table border=\"1\" class=\"dataframe\">\n",
       "  <thead>\n",
       "    <tr style=\"text-align: right;\">\n",
       "      <th></th>\n",
       "      <th>Physical Activity Level</th>\n",
       "      <th>Daily Steps</th>\n",
       "      <th>Quality of Sleep</th>\n",
       "    </tr>\n",
       "  </thead>\n",
       "  <tbody>\n",
       "    <tr>\n",
       "      <th>0</th>\n",
       "      <td>1</td>\n",
       "      <td>1</td>\n",
       "      <td>1</td>\n",
       "    </tr>\n",
       "    <tr>\n",
       "      <th>1</th>\n",
       "      <td>2</td>\n",
       "      <td>4</td>\n",
       "      <td>1</td>\n",
       "    </tr>\n",
       "    <tr>\n",
       "      <th>2</th>\n",
       "      <td>2</td>\n",
       "      <td>4</td>\n",
       "      <td>1</td>\n",
       "    </tr>\n",
       "    <tr>\n",
       "      <th>3</th>\n",
       "      <td>1</td>\n",
       "      <td>1</td>\n",
       "      <td>1</td>\n",
       "    </tr>\n",
       "    <tr>\n",
       "      <th>4</th>\n",
       "      <td>1</td>\n",
       "      <td>1</td>\n",
       "      <td>1</td>\n",
       "    </tr>\n",
       "    <tr>\n",
       "      <th>...</th>\n",
       "      <td>...</td>\n",
       "      <td>...</td>\n",
       "      <td>...</td>\n",
       "    </tr>\n",
       "    <tr>\n",
       "      <th>369</th>\n",
       "      <td>3</td>\n",
       "      <td>2</td>\n",
       "      <td>4</td>\n",
       "    </tr>\n",
       "    <tr>\n",
       "      <th>370</th>\n",
       "      <td>3</td>\n",
       "      <td>2</td>\n",
       "      <td>4</td>\n",
       "    </tr>\n",
       "    <tr>\n",
       "      <th>371</th>\n",
       "      <td>3</td>\n",
       "      <td>2</td>\n",
       "      <td>4</td>\n",
       "    </tr>\n",
       "    <tr>\n",
       "      <th>372</th>\n",
       "      <td>3</td>\n",
       "      <td>2</td>\n",
       "      <td>4</td>\n",
       "    </tr>\n",
       "    <tr>\n",
       "      <th>373</th>\n",
       "      <td>3</td>\n",
       "      <td>2</td>\n",
       "      <td>4</td>\n",
       "    </tr>\n",
       "  </tbody>\n",
       "</table>\n",
       "<p>374 rows × 3 columns</p>\n",
       "</div>"
      ],
      "text/plain": [
       "     Physical Activity Level  Daily Steps  Quality of Sleep\n",
       "0                          1            1                 1\n",
       "1                          2            4                 1\n",
       "2                          2            4                 1\n",
       "3                          1            1                 1\n",
       "4                          1            1                 1\n",
       "..                       ...          ...               ...\n",
       "369                        3            2                 4\n",
       "370                        3            2                 4\n",
       "371                        3            2                 4\n",
       "372                        3            2                 4\n",
       "373                        3            2                 4\n",
       "\n",
       "[374 rows x 3 columns]"
      ]
     },
     "execution_count": 24,
     "metadata": {},
     "output_type": "execute_result"
    }
   ],
   "source": [
    "# Bước 2\n",
    "def categorize_value(value, quartiles):\n",
    "    if value <= quartiles.loc[0.25]:\n",
    "        return 1\n",
    "    elif quartiles.loc[0.25] < value <= quartiles.loc[0.5]:\n",
    "        return 2\n",
    "    elif quartiles.loc[0.5] < value <= quartiles.loc[0.75]:\n",
    "        return 3\n",
    "    else:\n",
    "        return 4\n",
    "\n",
    "# Áp dụng hàm categorize_value cho từng cột\n",
    "for column in physical_activity_columns:\n",
    "    physical_activity_df[column] = physical_activity_df[column].apply(categorize_value, args=(quartiles[column],))\n",
    "\n",
    "physical_activity_df"
   ]
  },
  {
   "cell_type": "code",
   "execution_count": 25,
   "id": "5729cf3c",
   "metadata": {},
   "outputs": [
    {
     "name": "stdout",
     "output_type": "stream",
     "text": [
      "Count by Physical Activity Level:\n",
      "    Quality of Sleep  Physical Activity Level  Count_Physical_Activity\n",
      "0                  1                        1                       80\n",
      "1                  1                        2                        5\n",
      "2                  1                        4                       32\n",
      "3                  2                        1                       36\n",
      "4                  2                        2                        7\n",
      "5                  2                        3                       34\n",
      "6                  3                        1                        2\n",
      "7                  3                        2                       69\n",
      "8                  3                        3                        5\n",
      "9                  3                        4                       33\n",
      "10                 4                        1                       32\n",
      "11                 4                        3                       33\n",
      "12                 4                        4                        6\n",
      "\n",
      "Count by Daily Steps:\n",
      "    Quality of Sleep  Daily Steps  Count_Daily_Steps\n",
      "0                  1            1                 44\n",
      "1                  1            2                 33\n",
      "2                  1            3                  6\n",
      "3                  1            4                 34\n",
      "4                  2            1                  9\n",
      "5                  2            2                 36\n",
      "6                  2            3                 32\n",
      "7                  3            1                  6\n",
      "8                  3            2                 38\n",
      "9                  3            3                 65\n",
      "10                 4            1                 36\n",
      "11                 4            2                 31\n",
      "12                 4            3                  2\n",
      "13                 4            4                  2\n"
     ]
    }
   ],
   "source": [
    "# Bước 3\n",
    "count_by_physical_activity = physical_activity_df.groupby(['Quality of Sleep', 'Physical Activity Level']).size().reset_index(name='Count_Physical_Activity')\n",
    "\n",
    "# Đếm sự xuất hiện của Daily Steps theo Quality of Sleep\n",
    "count_by_daily_steps = physical_activity_df.groupby(['Quality of Sleep', 'Daily Steps']).size().reset_index(name='Count_Daily_Steps')\n",
    "\n",
    "# In kết quả\n",
    "print(\"Count by Physical Activity Level:\")\n",
    "print(count_by_physical_activity)\n",
    "print(\"\\nCount by Daily Steps:\")\n",
    "print(count_by_daily_steps)\n",
    "\n"
   ]
  },
  {
   "cell_type": "code",
   "execution_count": 26,
   "id": "32cf6b6b",
   "metadata": {},
   "outputs": [
    {
     "data": {
      "image/png": "[encoded data removed]",
      "text/plain": [
       "<Figure size 1000x600 with 1 Axes>"
      ]
     },
     "metadata": {},
     "output_type": "display_data"
    },
    {
     "data": {
      "image/png": "[encoded data removed]",
      "text/plain": [
       "<Figure size 1000x600 with 1 Axes>"
      ]
     },
     "metadata": {},
     "output_type": "display_data"
    }
   ],
   "source": [
    "# Bước 4\n",
    "# Vẽ biểu đồ scatter cho Physical Activity Level\n",
    "plt.figure(figsize=(10, 6))\n",
    "for quality, group in count_by_physical_activity.groupby('Quality of Sleep'):\n",
    "    plt.scatter(group['Physical Activity Level'], [quality] * len(group), s=group['Count_Physical_Activity'] * 10, label=f'Quality {quality}')\n",
    "\n",
    "plt.title('Scatter Plot of Physical Activity Level by Quality of Sleep')\n",
    "plt.xlabel('Physical Activity Level')\n",
    "plt.yticks(count_by_physical_activity['Quality of Sleep'].unique(), [f'Quality {quality}' for quality in count_by_physical_activity['Quality of Sleep'].unique()])\n",
    "plt.legend()\n",
    "plt.show()\n",
    "\n",
    "# Vẽ biểu đồ scatter cho Daily Steps\n",
    "plt.figure(figsize=(10, 6))\n",
    "for quality, group in count_by_daily_steps.groupby('Quality of Sleep'):\n",
    "    plt.scatter(group['Daily Steps'], [quality] * len(group), s=group['Count_Daily_Steps'] * 10, label=f'Quality {quality}')\n",
    "\n",
    "plt.title('Scatter Plot of Daily Steps by Quality of Sleep')\n",
    "plt.xlabel('Daily Steps')\n",
    "plt.yticks(count_by_daily_steps['Quality of Sleep'].unique(), [f'Quality {quality}' for quality in count_by_daily_steps['Quality of Sleep'].unique()])\n",
    "plt.legend()\n",
    "plt.show()"
   ]
  },
  {
   "attachments": {},
   "cell_type": "markdown",
   "id": "b2a86431",
   "metadata": {},
   "source": [
    "- Nhận xét về ảnh hưởng 'Physical Activity Level' lên 'Quality of Sleep': Dựa vào biểu đồ thứ nhất có thể thấy cách phân bố của các giá trị là không có quy luật. Cụ thể: \n",
    "    - Những người có 'Physical Activity Level' ở mức 1 tức kém có 'Quality of Sleep' ở mức kém là khá nhiều, tuy nhiên những người có 'Physical Activity Level' ở mức một tức kém mà có 'Quality of Sleep' ở mức trung bình trở lên cũng là là khá nhiều. \n",
    "    - Những người có 'Physical Activity Level' ở mức 2 tức trung bình có 'Quality of Sleep' chủ yếu ở mức khá.\n",
    "    - Những người có 'Physical Activity Level' ở mức 3 tức kém đều có 'Quality of Sleep' ở mức trung bình trở lên.\n",
    "    - Những người có 'Physical Activity Level' ở mức 4 tức tốt có 'Quality of Sleep' chủ yếu ở mức kém và khá.\n",
    "- Nhận xét về ảnh hưởng 'Daily Steps' lên 'Quality of Sleep': Dựa vào biểu đồ thứ hai có thể thấy đa số những người khảo sát có 'Daily Steps' nằm trong khoảng trung bình đến khá, những người có 'Daily Steps' tốt là khá ít, điều dễ nhận thấy là 'Daily Steps' tăng từ kém lên khá thì 'Quality of Sleep' ở mức kém sẽ càng giảm. Tuy nhiên, có phần kì lạ là những người có 'Daily Steps' tốt tức đi nhiều lại đa số có 'Quality of Sleep' ở mức 1 tức kém.\n",
    "- Kết Luận: \n",
    "    - Mối liên kết giữa 'Physical Activity Level' và 'Quality of Sleep' là không rõ ràng.\n",
    "    - Dựa vào mối liên kết giữa 'Daily Steps' và 'Quality of Sleep' ta có thể kết luận rằng nếu 'Daily Steps' ở mức độ vừa phải(ở mức trung bình hoặc khá) có thể giúp ta có 'Quality of Sleep' ở mức tốt hơn. Tuy nhiên nếu 'Daily Steps' quá cao, tức di chuyển quá nhiều có thể khiến ta có 'Quality of Sleep' ở mức kém."
   ]
  },
  {
   "attachments": {},
   "cell_type": "markdown",
   "id": "990b12ab",
   "metadata": {},
   "source": [
    "### 5.4. Câu hỏi 4: Làm thế nào chất lượng giấc ngủ ảnh hưởng đến sức khỏe của người tham gia khảo sát?\n",
    "\n",
    "- Thành viên phụ trách: Nguyễn Tấn Khiêm\n",
    "- Mục đích: Tìm hiểu về mối quan hệ giữa chất lượng giấc ngủ ảnh hưởng đến sức khỏe tổng thể, nhằm đưa ra những khuyến nghị về quản lý giấc ngủ trong môi trường làm việc.\n",
    "- Ý tưởng thực hiện: Kết hợp dữ liệu về Quality of Sleep với thông tin về Stress Level, BMI Category, Blood Pressure, Heart Rate và  Sleep Disorder để xác định mức độ ảnh hưởng của chất lượng giấc ngủ đối với hiệu suất công việc và sức khỏe tổng thể.\n",
    "\n",
    "#### 5.4.1. Tiền xử lý\n",
    "\n",
    "- Các bước tiền xử lý:\n",
    "    - ..."
   ]
  },
  {
   "cell_type": "code",
   "execution_count": 27,
   "id": "fab81363",
   "metadata": {},
   "outputs": [],
   "source": [
    "# TODO: Code tiền xử lý câu hỏi 4\n"
   ]
  },
  {
   "attachments": {},
   "cell_type": "markdown",
   "id": "5e0f532e",
   "metadata": {},
   "source": [
    "#### 5.4.2. Phân tích dữ liệu trả lời câu hỏi\n",
    "\n",
    "- Các bước phân tích dữ liệu: \n",
    "    - Bước 1: Lọc ra các cột liên quan đến sức khỏe bao gồm: Stress Level, BMI Category, Blood Pressure, Heart Rate và  Sleep Disorder.\n",
    "    - Bước 2: "
   ]
  },
  {
   "cell_type": "code",
   "execution_count": 28,
   "id": "0519b2c7",
   "metadata": {},
   "outputs": [],
   "source": [
    "# TODO: Code phân tích dữ liệu để trả lời câu hỏi 4\n"
   ]
  },
  {
   "attachments": {},
   "cell_type": "markdown",
   "id": "36a4dcb2",
   "metadata": {},
   "source": [
    "---\n",
    "## 6. Phản ánh bản thân sau khi hoàn thành đồ án\n",
    "\n",
    "### 6.1. Những khó khăn gặp phải?\n",
    "\n",
    "- Nguyễn Trọng Đại:\n",
    "    - ...\n",
    "- Nguyễn Tấn Khiêm:\n",
    "    - ...\n",
    "    \n",
    "### 6.2. Kinh nghiệm, bài học đạt được khi làm đồ án?\n",
    "\n",
    "- Nguyễn Trọng Đại:\n",
    "    - ...\n",
    "- Nguyễn Tấn Khiêm:\n",
    "    - ...\n",
    "    \n",
    "### 6.3. Nếu có thêm thời gian, nhóm sẽ làm:\n",
    "\n",
    "- ..."
   ]
  },
  {
   "attachments": {},
   "cell_type": "markdown",
   "id": "d1888dcc",
   "metadata": {},
   "source": [
    "---\n",
    "## 7. Tài liệu sử dụng\n",
    "\n",
    "- ..."
   ]
  },
  {
   "cell_type": "code",
   "execution_count": null,
   "id": "18c46677",
   "metadata": {},
   "outputs": [],
   "source": []
  }
 ],
 "metadata": {
  "kernelspec": {
   "display_name": "Python 3 (ipykernel)",
   "language": "python",
   "name": "python3"
  },
  "language_info": {
   "codemirror_mode": {
    "name": "ipython",
    "version": 3
   },
   "file_extension": ".py",
   "mimetype": "text/x-python",
   "name": "python",
   "nbconvert_exporter": "python",
   "pygments_lexer": "ipython3",
   "version": "3.10.13"
  }
 },
 "nbformat": 4,
 "nbformat_minor": 5
}
