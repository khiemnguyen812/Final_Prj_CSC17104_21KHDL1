{
 "cells": [
  {
   "attachments": {},
   "cell_type": "markdown",
   "id": "0c93b39f",
   "metadata": {},
   "source": [
    "# Đồ án cuối kỳ môn Lập trình cho KHDL - CSC17104_21KHDL1\n",
    "\n",
    "---\n",
    "## 1. Thông tin nhóm: Nhóm 12\n",
    "\n",
    "- Thành viên:\n",
    "    - Nguyễn Trọng Đại - 21127587\n",
    "    - Nguyễn Tấn Khiêm - 21127726"
   ]
  },
  {
   "attachments": {},
   "cell_type": "markdown",
   "id": "44a67387",
   "metadata": {},
   "source": [
    "---\n",
    "## 2. Import thư viện cần thiết"
   ]
  },
  {
   "cell_type": "code",
   "execution_count": 9,
   "id": "97c02d21",
   "metadata": {},
   "outputs": [],
   "source": [
    "import numpy as np\n",
    "import pandas as pd\n",
    "import matplotlib.pyplot as plt\n",
    "import warnings\n",
    "warnings.simplefilter('ignore')"
   ]
  },
  {
   "attachments": {},
   "cell_type": "markdown",
   "id": "a33b38b8",
   "metadata": {},
   "source": [
    "---\n",
    "## 3. Thu thập dữ liệu\n",
    "\n",
    "- Mô tả dữ liệu: ...\n",
    "- Tác giả: ...\n",
    "- License: ...\n",
    "- Cách tác giả thu thập dữ liệu: ..."
   ]
  },
  {
   "attachments": {},
   "cell_type": "markdown",
   "id": "14679c2a",
   "metadata": {},
   "source": [
    "---\n",
    "## 4. Khám phá dữ liệu + Tiền xử lý"
   ]
  },
  {
   "attachments": {},
   "cell_type": "markdown",
   "id": "d784e12d",
   "metadata": {},
   "source": [
    "### 4.0. Đọc dữ liệu"
   ]
  },
  {
   "cell_type": "code",
   "execution_count": 10,
   "id": "b2b91697",
   "metadata": {},
   "outputs": [
    {
     "data": {
      "text/html": [
       "<div>\n",
       "<style scoped>\n",
       "    .dataframe tbody tr th:only-of-type {\n",
       "        vertical-align: middle;\n",
       "    }\n",
       "\n",
       "    .dataframe tbody tr th {\n",
       "        vertical-align: top;\n",
       "    }\n",
       "\n",
       "    .dataframe thead th {\n",
       "        text-align: right;\n",
       "    }\n",
       "</style>\n",
       "<table border=\"1\" class=\"dataframe\">\n",
       "  <thead>\n",
       "    <tr style=\"text-align: right;\">\n",
       "      <th></th>\n",
       "      <th>Person ID</th>\n",
       "      <th>Gender</th>\n",
       "      <th>Age</th>\n",
       "      <th>Occupation</th>\n",
       "      <th>Sleep Duration</th>\n",
       "      <th>Quality of Sleep</th>\n",
       "      <th>Physical Activity Level</th>\n",
       "      <th>Stress Level</th>\n",
       "      <th>BMI Category</th>\n",
       "      <th>Blood Pressure</th>\n",
       "      <th>Heart Rate</th>\n",
       "      <th>Daily Steps</th>\n",
       "      <th>Sleep Disorder</th>\n",
       "    </tr>\n",
       "  </thead>\n",
       "  <tbody>\n",
       "    <tr>\n",
       "      <th>158</th>\n",
       "      <td>159</td>\n",
       "      <td>Male</td>\n",
       "      <td>39</td>\n",
       "      <td>Lawyer</td>\n",
       "      <td>7.2</td>\n",
       "      <td>8</td>\n",
       "      <td>60</td>\n",
       "      <td>5</td>\n",
       "      <td>Normal</td>\n",
       "      <td>130/85</td>\n",
       "      <td>68</td>\n",
       "      <td>8000</td>\n",
       "      <td>NaN</td>\n",
       "    </tr>\n",
       "    <tr>\n",
       "      <th>340</th>\n",
       "      <td>341</td>\n",
       "      <td>Female</td>\n",
       "      <td>55</td>\n",
       "      <td>Nurse</td>\n",
       "      <td>8.1</td>\n",
       "      <td>9</td>\n",
       "      <td>75</td>\n",
       "      <td>4</td>\n",
       "      <td>Overweight</td>\n",
       "      <td>140/95</td>\n",
       "      <td>72</td>\n",
       "      <td>5000</td>\n",
       "      <td>Sleep Apnea</td>\n",
       "    </tr>\n",
       "    <tr>\n",
       "      <th>282</th>\n",
       "      <td>283</td>\n",
       "      <td>Female</td>\n",
       "      <td>50</td>\n",
       "      <td>Nurse</td>\n",
       "      <td>6.0</td>\n",
       "      <td>6</td>\n",
       "      <td>90</td>\n",
       "      <td>8</td>\n",
       "      <td>Overweight</td>\n",
       "      <td>140/95</td>\n",
       "      <td>75</td>\n",
       "      <td>10000</td>\n",
       "      <td>Sleep Apnea</td>\n",
       "    </tr>\n",
       "    <tr>\n",
       "      <th>157</th>\n",
       "      <td>158</td>\n",
       "      <td>Male</td>\n",
       "      <td>39</td>\n",
       "      <td>Lawyer</td>\n",
       "      <td>7.2</td>\n",
       "      <td>8</td>\n",
       "      <td>60</td>\n",
       "      <td>5</td>\n",
       "      <td>Normal</td>\n",
       "      <td>130/85</td>\n",
       "      <td>68</td>\n",
       "      <td>8000</td>\n",
       "      <td>NaN</td>\n",
       "    </tr>\n",
       "    <tr>\n",
       "      <th>329</th>\n",
       "      <td>330</td>\n",
       "      <td>Female</td>\n",
       "      <td>53</td>\n",
       "      <td>Engineer</td>\n",
       "      <td>8.5</td>\n",
       "      <td>9</td>\n",
       "      <td>30</td>\n",
       "      <td>3</td>\n",
       "      <td>Normal</td>\n",
       "      <td>125/80</td>\n",
       "      <td>65</td>\n",
       "      <td>5000</td>\n",
       "      <td>NaN</td>\n",
       "    </tr>\n",
       "  </tbody>\n",
       "</table>\n",
       "</div>"
      ],
      "text/plain": [
       "     Person ID  Gender  Age Occupation  Sleep Duration  Quality of Sleep  \\\n",
       "158        159    Male   39     Lawyer             7.2                 8   \n",
       "340        341  Female   55      Nurse             8.1                 9   \n",
       "282        283  Female   50      Nurse             6.0                 6   \n",
       "157        158    Male   39     Lawyer             7.2                 8   \n",
       "329        330  Female   53   Engineer             8.5                 9   \n",
       "\n",
       "     Physical Activity Level  Stress Level BMI Category Blood Pressure  \\\n",
       "158                       60             5       Normal         130/85   \n",
       "340                       75             4   Overweight         140/95   \n",
       "282                       90             8   Overweight         140/95   \n",
       "157                       60             5       Normal         130/85   \n",
       "329                       30             3       Normal         125/80   \n",
       "\n",
       "     Heart Rate  Daily Steps Sleep Disorder  \n",
       "158          68         8000            NaN  \n",
       "340          72         5000    Sleep Apnea  \n",
       "282          75        10000    Sleep Apnea  \n",
       "157          68         8000            NaN  \n",
       "329          65         5000            NaN  "
      ]
     },
     "execution_count": 10,
     "metadata": {},
     "output_type": "execute_result"
    }
   ],
   "source": [
    "# TODO: Đọc data từ file csv và lưu vào df. Hiển thị 5 dòng ngẫu nhiên\n",
    "df = pd.read_csv(\"./data/Sleep_health_and_lifestyle_dataset.csv\")\n",
    "df.sample(5)"
   ]
  },
  {
   "attachments": {},
   "cell_type": "markdown",
   "id": "a4a426e7",
   "metadata": {},
   "source": [
    "### 4.1. Số dòng, số cột"
   ]
  },
  {
   "cell_type": "code",
   "execution_count": 11,
   "id": "f784d572",
   "metadata": {},
   "outputs": [
    {
     "ename": "NameError",
     "evalue": "name 'n_rows' is not defined",
     "output_type": "error",
     "traceback": [
      "\u001b[1;31m---------------------------------------------------------------------------\u001b[0m",
      "\u001b[1;31mNameError\u001b[0m                                 Traceback (most recent call last)",
      "Cell \u001b[1;32mIn[11], line 3\u001b[0m\n\u001b[0;32m      1\u001b[0m \u001b[39m# TODO: Lưu số dòng vào số cột vào n_rows, n_cols\u001b[39;00m\n\u001b[1;32m----> 3\u001b[0m n_rows, n_cols\n",
      "\u001b[1;31mNameError\u001b[0m: name 'n_rows' is not defined"
     ]
    }
   ],
   "source": [
    "# TODO: Lưu số dòng vào số cột vào n_rows, n_cols\n",
    "\n",
    "n_rows, n_cols"
   ]
  },
  {
   "attachments": {},
   "cell_type": "markdown",
   "id": "72ae45b3",
   "metadata": {},
   "source": [
    "### 4.2. Khám phá dòng\n",
    "\n",
    "- Nhận xét dòng: các dòng thể hiện khảo sát của một Person ID."
   ]
  },
  {
   "cell_type": "code",
   "execution_count": 12,
   "id": "ac98e27d",
   "metadata": {},
   "outputs": [
    {
     "name": "stdout",
     "output_type": "stream",
     "text": [
      "Dữ liệu có duplicate? : 0      False\n",
      "1      False\n",
      "2      False\n",
      "3      False\n",
      "4      False\n",
      "       ...  \n",
      "369    False\n",
      "370    False\n",
      "371    False\n",
      "372    False\n",
      "373    False\n",
      "Length: 374, dtype: bool\n"
     ]
    }
   ],
   "source": [
    "# TODO: Kiểm tra duplicate, lưu vào 'is_duplicated'\n",
    "is_duplicated = df.duplicated()\n",
    "\n",
    "print(\"Dữ liệu có duplicate? :\", is_duplicated)"
   ]
  },
  {
   "cell_type": "code",
   "execution_count": 13,
   "id": "6c1a54f4",
   "metadata": {},
   "outputs": [],
   "source": [
    "# TODO: Nếu có duplicate thì loại bỏ nó\n",
    "df = df.drop_duplicates()"
   ]
  },
  {
   "attachments": {},
   "cell_type": "markdown",
   "id": "7e2e7e60",
   "metadata": {},
   "source": [
    "### 4.3. Khám phá cột\n",
    "\n",
    "- Nhận xét cột: kiểu dữ liệu của các cột đều hợp lý."
   ]
  },
  {
   "cell_type": "code",
   "execution_count": 14,
   "id": "28d90f00",
   "metadata": {},
   "outputs": [
    {
     "name": "stdout",
     "output_type": "stream",
     "text": [
      "Tên cột và kiểu dữ liệu:\n",
      "Person ID                    int64\n",
      "Gender                      object\n",
      "Age                          int64\n",
      "Occupation                  object\n",
      "Sleep Duration             float64\n",
      "Quality of Sleep             int64\n",
      "Physical Activity Level      int64\n",
      "Stress Level                 int64\n",
      "BMI Category                object\n",
      "Blood Pressure              object\n",
      "Heart Rate                   int64\n",
      "Daily Steps                  int64\n",
      "Sleep Disorder              object\n",
      "dtype: object\n"
     ]
    }
   ],
   "source": [
    "# TODO: Liệt kê tên các cột và kiểu dữ liệu tương ứng\n",
    "\n",
    "# Liệt kê tên các cột và kiểu dữ liệu\n",
    "column_types = df.dtypes\n",
    "\n",
    "# Hiển thị thông tin\n",
    "print(\"Tên cột và kiểu dữ liệu:\")\n",
    "print(column_types)"
   ]
  },
  {
   "attachments": {},
   "cell_type": "markdown",
   "id": "ad678b52",
   "metadata": {},
   "source": [
    "### 4.4. Loại bỏ các dòng và cột vô nghĩa\n",
    "\n",
    "- **TODO**: Các dòng trong dataset đều là các khảo sát được thực hiện ở các cá nhân khác nhau nên đều có nghĩa.\n"
   ]
  },
  {
   "cell_type": "code",
   "execution_count": 24,
   "id": "a1559572",
   "metadata": {},
   "outputs": [],
   "source": [
    "# TODO: Loại bỏ các dòng vô nghĩa"
   ]
  },
  {
   "attachments": {},
   "cell_type": "markdown",
   "id": "344df356",
   "metadata": {},
   "source": [
    "- **TODO**: Cột Person ID là vô nghĩa do có thể thấy nó được sắp xếp theo thứ tự tăng dần, nên ta chỉ cần truy xuất vị trí index ta sẽ có được Person ID nếu cần."
   ]
  },
  {
   "cell_type": "code",
   "execution_count": 15,
   "id": "ae52525e",
   "metadata": {},
   "outputs": [
    {
     "data": {
      "text/html": [
       "<div>\n",
       "<style scoped>\n",
       "    .dataframe tbody tr th:only-of-type {\n",
       "        vertical-align: middle;\n",
       "    }\n",
       "\n",
       "    .dataframe tbody tr th {\n",
       "        vertical-align: top;\n",
       "    }\n",
       "\n",
       "    .dataframe thead th {\n",
       "        text-align: right;\n",
       "    }\n",
       "</style>\n",
       "<table border=\"1\" class=\"dataframe\">\n",
       "  <thead>\n",
       "    <tr style=\"text-align: right;\">\n",
       "      <th></th>\n",
       "      <th>Gender</th>\n",
       "      <th>Age</th>\n",
       "      <th>Occupation</th>\n",
       "      <th>Sleep Duration</th>\n",
       "      <th>Quality of Sleep</th>\n",
       "      <th>Physical Activity Level</th>\n",
       "      <th>Stress Level</th>\n",
       "      <th>BMI Category</th>\n",
       "      <th>Blood Pressure</th>\n",
       "      <th>Heart Rate</th>\n",
       "      <th>Daily Steps</th>\n",
       "      <th>Sleep Disorder</th>\n",
       "    </tr>\n",
       "  </thead>\n",
       "  <tbody>\n",
       "    <tr>\n",
       "      <th>0</th>\n",
       "      <td>Male</td>\n",
       "      <td>27</td>\n",
       "      <td>Software Engineer</td>\n",
       "      <td>6.1</td>\n",
       "      <td>6</td>\n",
       "      <td>42</td>\n",
       "      <td>6</td>\n",
       "      <td>Overweight</td>\n",
       "      <td>126/83</td>\n",
       "      <td>77</td>\n",
       "      <td>4200</td>\n",
       "      <td>NaN</td>\n",
       "    </tr>\n",
       "    <tr>\n",
       "      <th>1</th>\n",
       "      <td>Male</td>\n",
       "      <td>28</td>\n",
       "      <td>Doctor</td>\n",
       "      <td>6.2</td>\n",
       "      <td>6</td>\n",
       "      <td>60</td>\n",
       "      <td>8</td>\n",
       "      <td>Normal</td>\n",
       "      <td>125/80</td>\n",
       "      <td>75</td>\n",
       "      <td>10000</td>\n",
       "      <td>NaN</td>\n",
       "    </tr>\n",
       "    <tr>\n",
       "      <th>2</th>\n",
       "      <td>Male</td>\n",
       "      <td>28</td>\n",
       "      <td>Doctor</td>\n",
       "      <td>6.2</td>\n",
       "      <td>6</td>\n",
       "      <td>60</td>\n",
       "      <td>8</td>\n",
       "      <td>Normal</td>\n",
       "      <td>125/80</td>\n",
       "      <td>75</td>\n",
       "      <td>10000</td>\n",
       "      <td>NaN</td>\n",
       "    </tr>\n",
       "    <tr>\n",
       "      <th>3</th>\n",
       "      <td>Male</td>\n",
       "      <td>28</td>\n",
       "      <td>Sales Representative</td>\n",
       "      <td>5.9</td>\n",
       "      <td>4</td>\n",
       "      <td>30</td>\n",
       "      <td>8</td>\n",
       "      <td>Obese</td>\n",
       "      <td>140/90</td>\n",
       "      <td>85</td>\n",
       "      <td>3000</td>\n",
       "      <td>Sleep Apnea</td>\n",
       "    </tr>\n",
       "    <tr>\n",
       "      <th>4</th>\n",
       "      <td>Male</td>\n",
       "      <td>28</td>\n",
       "      <td>Sales Representative</td>\n",
       "      <td>5.9</td>\n",
       "      <td>4</td>\n",
       "      <td>30</td>\n",
       "      <td>8</td>\n",
       "      <td>Obese</td>\n",
       "      <td>140/90</td>\n",
       "      <td>85</td>\n",
       "      <td>3000</td>\n",
       "      <td>Sleep Apnea</td>\n",
       "    </tr>\n",
       "    <tr>\n",
       "      <th>...</th>\n",
       "      <td>...</td>\n",
       "      <td>...</td>\n",
       "      <td>...</td>\n",
       "      <td>...</td>\n",
       "      <td>...</td>\n",
       "      <td>...</td>\n",
       "      <td>...</td>\n",
       "      <td>...</td>\n",
       "      <td>...</td>\n",
       "      <td>...</td>\n",
       "      <td>...</td>\n",
       "      <td>...</td>\n",
       "    </tr>\n",
       "    <tr>\n",
       "      <th>369</th>\n",
       "      <td>Female</td>\n",
       "      <td>59</td>\n",
       "      <td>Nurse</td>\n",
       "      <td>8.1</td>\n",
       "      <td>9</td>\n",
       "      <td>75</td>\n",
       "      <td>3</td>\n",
       "      <td>Overweight</td>\n",
       "      <td>140/95</td>\n",
       "      <td>68</td>\n",
       "      <td>7000</td>\n",
       "      <td>Sleep Apnea</td>\n",
       "    </tr>\n",
       "    <tr>\n",
       "      <th>370</th>\n",
       "      <td>Female</td>\n",
       "      <td>59</td>\n",
       "      <td>Nurse</td>\n",
       "      <td>8.0</td>\n",
       "      <td>9</td>\n",
       "      <td>75</td>\n",
       "      <td>3</td>\n",
       "      <td>Overweight</td>\n",
       "      <td>140/95</td>\n",
       "      <td>68</td>\n",
       "      <td>7000</td>\n",
       "      <td>Sleep Apnea</td>\n",
       "    </tr>\n",
       "    <tr>\n",
       "      <th>371</th>\n",
       "      <td>Female</td>\n",
       "      <td>59</td>\n",
       "      <td>Nurse</td>\n",
       "      <td>8.1</td>\n",
       "      <td>9</td>\n",
       "      <td>75</td>\n",
       "      <td>3</td>\n",
       "      <td>Overweight</td>\n",
       "      <td>140/95</td>\n",
       "      <td>68</td>\n",
       "      <td>7000</td>\n",
       "      <td>Sleep Apnea</td>\n",
       "    </tr>\n",
       "    <tr>\n",
       "      <th>372</th>\n",
       "      <td>Female</td>\n",
       "      <td>59</td>\n",
       "      <td>Nurse</td>\n",
       "      <td>8.1</td>\n",
       "      <td>9</td>\n",
       "      <td>75</td>\n",
       "      <td>3</td>\n",
       "      <td>Overweight</td>\n",
       "      <td>140/95</td>\n",
       "      <td>68</td>\n",
       "      <td>7000</td>\n",
       "      <td>Sleep Apnea</td>\n",
       "    </tr>\n",
       "    <tr>\n",
       "      <th>373</th>\n",
       "      <td>Female</td>\n",
       "      <td>59</td>\n",
       "      <td>Nurse</td>\n",
       "      <td>8.1</td>\n",
       "      <td>9</td>\n",
       "      <td>75</td>\n",
       "      <td>3</td>\n",
       "      <td>Overweight</td>\n",
       "      <td>140/95</td>\n",
       "      <td>68</td>\n",
       "      <td>7000</td>\n",
       "      <td>Sleep Apnea</td>\n",
       "    </tr>\n",
       "  </tbody>\n",
       "</table>\n",
       "<p>374 rows × 12 columns</p>\n",
       "</div>"
      ],
      "text/plain": [
       "     Gender  Age            Occupation  Sleep Duration  Quality of Sleep  \\\n",
       "0      Male   27     Software Engineer             6.1                 6   \n",
       "1      Male   28                Doctor             6.2                 6   \n",
       "2      Male   28                Doctor             6.2                 6   \n",
       "3      Male   28  Sales Representative             5.9                 4   \n",
       "4      Male   28  Sales Representative             5.9                 4   \n",
       "..      ...  ...                   ...             ...               ...   \n",
       "369  Female   59                 Nurse             8.1                 9   \n",
       "370  Female   59                 Nurse             8.0                 9   \n",
       "371  Female   59                 Nurse             8.1                 9   \n",
       "372  Female   59                 Nurse             8.1                 9   \n",
       "373  Female   59                 Nurse             8.1                 9   \n",
       "\n",
       "     Physical Activity Level  Stress Level BMI Category Blood Pressure  \\\n",
       "0                         42             6   Overweight         126/83   \n",
       "1                         60             8       Normal         125/80   \n",
       "2                         60             8       Normal         125/80   \n",
       "3                         30             8        Obese         140/90   \n",
       "4                         30             8        Obese         140/90   \n",
       "..                       ...           ...          ...            ...   \n",
       "369                       75             3   Overweight         140/95   \n",
       "370                       75             3   Overweight         140/95   \n",
       "371                       75             3   Overweight         140/95   \n",
       "372                       75             3   Overweight         140/95   \n",
       "373                       75             3   Overweight         140/95   \n",
       "\n",
       "     Heart Rate  Daily Steps Sleep Disorder  \n",
       "0            77         4200            NaN  \n",
       "1            75        10000            NaN  \n",
       "2            75        10000            NaN  \n",
       "3            85         3000    Sleep Apnea  \n",
       "4            85         3000    Sleep Apnea  \n",
       "..          ...          ...            ...  \n",
       "369          68         7000    Sleep Apnea  \n",
       "370          68         7000    Sleep Apnea  \n",
       "371          68         7000    Sleep Apnea  \n",
       "372          68         7000    Sleep Apnea  \n",
       "373          68         7000    Sleep Apnea  \n",
       "\n",
       "[374 rows x 12 columns]"
      ]
     },
     "execution_count": 15,
     "metadata": {},
     "output_type": "execute_result"
    }
   ],
   "source": [
    "# TODO: Loại bỏ các cột vô nghĩa\n",
    "df = df.drop(columns=['Person ID'])\n",
    "df"
   ]
  },
  {
   "attachments": {},
   "cell_type": "markdown",
   "id": "eb522ecb",
   "metadata": {},
   "source": [
    "### 4.5. Xử lý data thiếu và chuyển đổi kiểu dữ liệu\n",
    "\n",
    "- Bảng tóm tắt của Dataframe:"
   ]
  },
  {
   "cell_type": "code",
   "execution_count": null,
   "id": "f6a0a8c1",
   "metadata": {},
   "outputs": [],
   "source": [
    "# TODO: Hiển thị bảng tóm tắt của Dataframe\n"
   ]
  },
  {
   "attachments": {},
   "cell_type": "markdown",
   "id": "b94d79b0",
   "metadata": {},
   "source": [
    "- **TODO**: Nhận xét bảng tóm tắt\n",
    "- **TODO**: Đối với những dòng bị thiếu, xử lý thế nào?"
   ]
  },
  {
   "cell_type": "code",
   "execution_count": null,
   "id": "8eb701e6",
   "metadata": {},
   "outputs": [],
   "source": [
    "# TODO: Xử lý các dòng bị thiếu\n"
   ]
  },
  {
   "attachments": {},
   "cell_type": "markdown",
   "id": "418afb62",
   "metadata": {},
   "source": [
    "- **TODO**: Từ bảng tóm tắt, nhận xét dữ liệu các cột có đúng hay chưa."
   ]
  },
  {
   "cell_type": "code",
   "execution_count": null,
   "id": "74b9565b",
   "metadata": {},
   "outputs": [],
   "source": [
    "# TODO: Chuyển đổi kiểu dữ liệu cho đúng\n"
   ]
  },
  {
   "attachments": {},
   "cell_type": "markdown",
   "id": "a48723d2",
   "metadata": {},
   "source": [
    "### 4.6. Phân bố dữ liệu\n",
    "\n",
    "#### 4.6.1. Dữ liệu Numeric\n",
    "\n",
    "- Bảng giá trị lượng tử Numeric:"
   ]
  },
  {
   "cell_type": "code",
   "execution_count": 16,
   "id": "e4070be8",
   "metadata": {},
   "outputs": [
    {
     "data": {
      "text/html": [
       "<div>\n",
       "<style scoped>\n",
       "    .dataframe tbody tr th:only-of-type {\n",
       "        vertical-align: middle;\n",
       "    }\n",
       "\n",
       "    .dataframe tbody tr th {\n",
       "        vertical-align: top;\n",
       "    }\n",
       "\n",
       "    .dataframe thead th {\n",
       "        text-align: right;\n",
       "    }\n",
       "</style>\n",
       "<table border=\"1\" class=\"dataframe\">\n",
       "  <thead>\n",
       "    <tr style=\"text-align: right;\">\n",
       "      <th></th>\n",
       "      <th>Age</th>\n",
       "      <th>Sleep Duration</th>\n",
       "      <th>Quality of Sleep</th>\n",
       "      <th>Physical Activity Level</th>\n",
       "      <th>Stress Level</th>\n",
       "      <th>Heart Rate</th>\n",
       "      <th>Daily Steps</th>\n",
       "    </tr>\n",
       "  </thead>\n",
       "  <tbody>\n",
       "    <tr>\n",
       "      <th>min</th>\n",
       "      <td>27.00</td>\n",
       "      <td>5.8</td>\n",
       "      <td>4.0</td>\n",
       "      <td>30.0</td>\n",
       "      <td>3.0</td>\n",
       "      <td>65.0</td>\n",
       "      <td>3000.0</td>\n",
       "    </tr>\n",
       "    <tr>\n",
       "      <th>25%</th>\n",
       "      <td>35.25</td>\n",
       "      <td>6.4</td>\n",
       "      <td>6.0</td>\n",
       "      <td>45.0</td>\n",
       "      <td>4.0</td>\n",
       "      <td>68.0</td>\n",
       "      <td>5600.0</td>\n",
       "    </tr>\n",
       "    <tr>\n",
       "      <th>50%</th>\n",
       "      <td>43.00</td>\n",
       "      <td>7.2</td>\n",
       "      <td>7.0</td>\n",
       "      <td>60.0</td>\n",
       "      <td>5.0</td>\n",
       "      <td>70.0</td>\n",
       "      <td>7000.0</td>\n",
       "    </tr>\n",
       "    <tr>\n",
       "      <th>75%</th>\n",
       "      <td>50.00</td>\n",
       "      <td>7.8</td>\n",
       "      <td>8.0</td>\n",
       "      <td>75.0</td>\n",
       "      <td>7.0</td>\n",
       "      <td>72.0</td>\n",
       "      <td>8000.0</td>\n",
       "    </tr>\n",
       "    <tr>\n",
       "      <th>max</th>\n",
       "      <td>59.00</td>\n",
       "      <td>8.5</td>\n",
       "      <td>9.0</td>\n",
       "      <td>90.0</td>\n",
       "      <td>8.0</td>\n",
       "      <td>86.0</td>\n",
       "      <td>10000.0</td>\n",
       "    </tr>\n",
       "  </tbody>\n",
       "</table>\n",
       "</div>"
      ],
      "text/plain": [
       "       Age  Sleep Duration  Quality of Sleep  Physical Activity Level  \\\n",
       "min  27.00             5.8               4.0                     30.0   \n",
       "25%  35.25             6.4               6.0                     45.0   \n",
       "50%  43.00             7.2               7.0                     60.0   \n",
       "75%  50.00             7.8               8.0                     75.0   \n",
       "max  59.00             8.5               9.0                     90.0   \n",
       "\n",
       "     Stress Level  Heart Rate  Daily Steps  \n",
       "min           3.0        65.0       3000.0  \n",
       "25%           4.0        68.0       5600.0  \n",
       "50%           5.0        70.0       7000.0  \n",
       "75%           7.0        72.0       8000.0  \n",
       "max           8.0        86.0      10000.0  "
      ]
     },
     "execution_count": 16,
     "metadata": {},
     "output_type": "execute_result"
    }
   ],
   "source": [
    "# TODO: Tính giá trị lượng tử (min, 25%, 50%, 75%, max) của từng cột Numeric, lưu vào 'numeric_col_profile'\n",
    "# 'numeric_col_profile' là 1 dataframe có col là các cột của df, index là 5 giá trị lượng tử\n",
    "\n",
    "\n",
    "# Lọc ra các cột numeric\n",
    "numeric_columns = df.select_dtypes(include=['float64', 'int64'])\n",
    "\n",
    "# Tính giá trị lượng tử (min, 25%, 50%, 75%, max) cho mỗi cột numeric\n",
    "def calculate_quantiles(column):\n",
    "    return pd.Series(np.percentile(column, [0, 25, 50, 75, 100]), index=['min', '25%', '50%', '75%', 'max'])\n",
    "\n",
    "numeric_col_profile = numeric_columns.apply(calculate_quantiles)\n",
    "\n",
    "# Hiển thị DataFrame mới\n",
    "numeric_col_profile\n"
   ]
  },
  {
   "attachments": {},
   "cell_type": "markdown",
   "id": "cbf0305f",
   "metadata": {},
   "source": [
    "- Biểu đồ phân bố dữ liệu Numeric:"
   ]
  },
  {
   "cell_type": "code",
   "execution_count": 23,
   "id": "e00319ba",
   "metadata": {},
   "outputs": [
    {
     "data": {
      "image/png": "[encoded data removed]",
      "text/plain": [
       "<Figure size 2000x1000 with 9 Axes>"
      ]
     },
     "metadata": {},
     "output_type": "display_data"
    }
   ],
   "source": [
    "# TODO: In ra biểu đồ cột phân bố dữ liệu Numeric dựa vào 'numeric_col_profile'\n",
    "\n",
    "numeric_columns.hist(bins=10, figsize=(20,10))\n",
    "plt.show()"
   ]
  },
  {
   "attachments": {},
   "cell_type": "markdown",
   "id": "b561c6b6",
   "metadata": {},
   "source": [
    "*Nhận xét về sự phân bố dữ liệu của các cột Numeric:*\n",
    "1. **Age (Độ Tuổi):**\n",
    "   - Độ tuổi của người được khảo sát nằm trong khoảng 27-59.\n",
    "   - Phần lớn người có độ tuổi ở mức trung bình (50% ở khoảng 43 tuổi), với người đông nhất ở tuổi 45.\n",
    "   - Tuổi tăng dần từ 27 đến 59.\n",
    "\n",
    "2. **Sleep Duration (Thời Gian Ngủ):**\n",
    "   - Thời gian ngủ trung bình của người được khảo sát là 7.2 giờ.\n",
    "   - Người có thời gian ngủ ít nhất là 5.8 giờ và nhiều nhất là 8.5 giờ.\n",
    "\n",
    "3. **Quality of Sleep (Chất lượng Ngủ):**\n",
    "   - Chất lượng ngủ trung bình là 7.0 điểm trên thang điểm từ 1 đến 9.\n",
    "   - Người có chất lượng ngủ thấp nhất là 4.0 và cao nhất là 9.0.\n",
    "\n",
    "4. **Physical Activity Level (Mức Độ Hoạt Động Thể Chất):**\n",
    "   - Mức độ hoạt động thể chất trung bình là 60.0.\n",
    "   - Người có mức độ hoạt động thấp nhất là 30.0 và cao nhất là 90.0.\n",
    "\n",
    "5. **Stress Level (Mức Độ Stress):**\n",
    "   - Mức độ stress trung bình là 5.0.\n",
    "   - Người có mức độ stress thấp nhất là 3.0 và cao nhất là 8.0.\n",
    "\n",
    "6. **Heart Rate (Nhịp Tim):**\n",
    "   - Nhịp tim trung bình là 70.0 bpm.\n",
    "   - Người có nhịp tim thấp nhất là 65.0 bpm và cao nhất là 86.0 bpm.\n",
    "\n",
    "7. **Daily Steps (Bước Chân Hằng Ngày):**\n",
    "   - Số bước chân trung bình là 7000 bước/ngày.\n",
    "   - Người có số bước chân ít nhất là 3000 và nhiều nhất là 10000 bước/ngày.\n",
    "\n",
    "Những thông tin trên cung cấp cái nhìn tổng quan về các chỉ số quan trọng liên quan đến sức khỏe và lối sống của người được khảo sát."
   ]
  },
  {
   "attachments": {},
   "cell_type": "markdown",
   "id": "c4b60ff7",
   "metadata": {},
   "source": [
    "#### 4.6.2. Dữ liệu Categorical\n",
    "\n",
    "- Bảng phân bố dữ liệu Categorical:"
   ]
  },
  {
   "cell_type": "code",
   "execution_count": null,
   "id": "30fbda06",
   "metadata": {},
   "outputs": [],
   "source": [
    "# TODO: Tính các giá trị unique của mỗi cột, và 1 dictionary ứng với mỗi cột có key là giá trị unique, value là số lượng của nó trong cột\n",
    "# Lưu vào 'single_cate_profile' là 1 dataframe có index là số lượng unique của cột và dictionary tương ứng\n",
    "# có col là các cột của df\n",
    "\n",
    "single_cate_profile"
   ]
  },
  {
   "attachments": {},
   "cell_type": "markdown",
   "id": "f082113e",
   "metadata": {},
   "source": [
    "- Biểu đồ phân bố dữ liệu Categorical:"
   ]
  },
  {
   "cell_type": "code",
   "execution_count": null,
   "id": "f907d629",
   "metadata": {},
   "outputs": [],
   "source": [
    "# TODO: In ra biểu đồ hình tròn (pie chart) phân bố dữ liệu Categorical dựa vào 'single_cate_profile'\n",
    "# Ghi rõ chú thích cho từng biểu đồ\n"
   ]
  },
  {
   "attachments": {},
   "cell_type": "markdown",
   "id": "6976cdcd",
   "metadata": {},
   "source": [
    "- **TODO**: Nhận xét về sự phân bố dữ liệu của các cột Categorical"
   ]
  },
  {
   "attachments": {},
   "cell_type": "markdown",
   "id": "4a677c78",
   "metadata": {},
   "source": [
    "---\n",
    "## 5. Đặt câu hỏi có ý nghĩa"
   ]
  },
  {
   "attachments": {},
   "cell_type": "markdown",
   "id": "38fe0bea",
   "metadata": {},
   "source": [
    "### 5.1. Câu hỏi 1: ...\n",
    "\n",
    "- Thành viên phụ trách: ...\n",
    "- Mục đích: ...\n",
    "\n",
    "#### 5.1.1. Tiền xử lý\n",
    "\n",
    "- Các bước tiền xử lý:\n",
    "    - ..."
   ]
  },
  {
   "cell_type": "code",
   "execution_count": null,
   "id": "0949b874",
   "metadata": {},
   "outputs": [],
   "source": [
    "# TODO: Code tiền xử lý câu hỏi 1\n"
   ]
  },
  {
   "attachments": {},
   "cell_type": "markdown",
   "id": "0fd966e0",
   "metadata": {},
   "source": [
    "#### 5.1.2. Phân tích dữ liệu trả lời câu hỏi\n",
    "\n",
    "- Các bước phân tích dữ liệu:\n",
    "    - ..."
   ]
  },
  {
   "cell_type": "code",
   "execution_count": null,
   "id": "d915a6bb",
   "metadata": {},
   "outputs": [],
   "source": [
    "# TODO: Code phân tích dữ liệu để trả lời câu hỏi 1\n"
   ]
  },
  {
   "attachments": {},
   "cell_type": "markdown",
   "id": "8dd01b2c",
   "metadata": {},
   "source": [
    "### 5.2. Câu hỏi 2: ...\n",
    "\n",
    "- Thành viên phụ trách: ...\n",
    "- Mục đích: ...\n",
    "\n",
    "#### 5.2.1. Tiền xử lý\n",
    "\n",
    "- Các bước tiền xử lý:\n",
    "    - ..."
   ]
  },
  {
   "cell_type": "code",
   "execution_count": null,
   "id": "584b6254",
   "metadata": {},
   "outputs": [],
   "source": [
    "# TODO: Code tiền xử lý câu hỏi 2\n"
   ]
  },
  {
   "attachments": {},
   "cell_type": "markdown",
   "id": "c3a79ffb",
   "metadata": {},
   "source": [
    "#### 5.2.2. Phân tích dữ liệu trả lời câu hỏi\n",
    "\n",
    "- Các bước phân tích dữ liệu:\n",
    "    - ..."
   ]
  },
  {
   "cell_type": "code",
   "execution_count": null,
   "id": "84be9cc9",
   "metadata": {},
   "outputs": [],
   "source": [
    "# TODO: Code phân tích dữ liệu để trả lời câu hỏi 2\n"
   ]
  },
  {
   "attachments": {},
   "cell_type": "markdown",
   "id": "49fd53e9",
   "metadata": {},
   "source": [
    "### 5.3. Câu hỏi 3: ...\n",
    "\n",
    "- Thành viên phụ trách: ...\n",
    "- Mục đích: ...\n",
    "\n",
    "#### 5.3.1. Tiền xử lý\n",
    "\n",
    "- Các bước tiền xử lý:\n",
    "    - ..."
   ]
  },
  {
   "cell_type": "code",
   "execution_count": null,
   "id": "953c56d4",
   "metadata": {},
   "outputs": [],
   "source": [
    "# TODO: Code tiền xử lý câu hỏi 3\n"
   ]
  },
  {
   "attachments": {},
   "cell_type": "markdown",
   "id": "399a64e4",
   "metadata": {},
   "source": [
    "#### 5.3.2. Phân tích dữ liệu trả lời câu hỏi\n",
    "\n",
    "- Các bước phân tích dữ liệu:\n",
    "    - ..."
   ]
  },
  {
   "cell_type": "code",
   "execution_count": null,
   "id": "2b931011",
   "metadata": {},
   "outputs": [],
   "source": [
    "# TODO: Code phân tích dữ liệu để trả lời câu hỏi 3\n"
   ]
  },
  {
   "attachments": {},
   "cell_type": "markdown",
   "id": "990b12ab",
   "metadata": {},
   "source": [
    "### 5.4. Câu hỏi 4: ...\n",
    "\n",
    "- Thành viên phụ trách: ...\n",
    "- Mục đích: ...\n",
    "\n",
    "#### 5.4.1. Tiền xử lý\n",
    "\n",
    "- Các bước tiền xử lý:\n",
    "    - ..."
   ]
  },
  {
   "cell_type": "code",
   "execution_count": null,
   "id": "fab81363",
   "metadata": {},
   "outputs": [],
   "source": [
    "# TODO: Code tiền xử lý câu hỏi 4\n"
   ]
  },
  {
   "attachments": {},
   "cell_type": "markdown",
   "id": "5e0f532e",
   "metadata": {},
   "source": [
    "#### 5.4.2. Phân tích dữ liệu trả lời câu hỏi\n",
    "\n",
    "- Các bước phân tích dữ liệu:\n",
    "    - ..."
   ]
  },
  {
   "cell_type": "code",
   "execution_count": null,
   "id": "0519b2c7",
   "metadata": {},
   "outputs": [],
   "source": [
    "# TODO: Code phân tích dữ liệu để trả lời câu hỏi 4\n"
   ]
  },
  {
   "attachments": {},
   "cell_type": "markdown",
   "id": "36a4dcb2",
   "metadata": {},
   "source": [
    "---\n",
    "## 6. Phản ánh bản thân sau khi hoàn thành đồ án\n",
    "\n",
    "### 6.1. Những khó khăn gặp phải?\n",
    "\n",
    "- Nguyễn Trọng Đại:\n",
    "    - ...\n",
    "- Nguyễn Tấn Khiêm:\n",
    "    - ...\n",
    "    \n",
    "### 6.2. Kinh nghiệm, bài học đạt được khi làm đồ án?\n",
    "\n",
    "- Nguyễn Trọng Đại:\n",
    "    - ...\n",
    "- Nguyễn Tấn Khiêm:\n",
    "    - ...\n",
    "    \n",
    "### 6.3. Nếu có thêm thời gian, nhóm sẽ làm:\n",
    "\n",
    "- ..."
   ]
  },
  {
   "attachments": {},
   "cell_type": "markdown",
   "id": "d1888dcc",
   "metadata": {},
   "source": [
    "---\n",
    "## 7. Tài liệu sử dụng\n",
    "\n",
    "- ..."
   ]
  },
  {
   "cell_type": "code",
   "execution_count": null,
   "id": "18c46677",
   "metadata": {},
   "outputs": [],
   "source": []
  }
 ],
 "metadata": {
  "kernelspec": {
   "display_name": "Python 3 (ipykernel)",
   "language": "python",
   "name": "python3"
  },
  "language_info": {
   "codemirror_mode": {
    "name": "ipython",
    "version": 3
   },
   "file_extension": ".py",
   "mimetype": "text/x-python",
   "name": "python",
   "nbconvert_exporter": "python",
   "pygments_lexer": "ipython3",
   "version": "3.10.13"
  }
 },
 "nbformat": 4,
 "nbformat_minor": 5
}
