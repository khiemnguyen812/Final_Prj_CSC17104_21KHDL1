{
 "cells": [
  {
   "attachments": {},
   "cell_type": "markdown",
   "id": "0c93b39f",
   "metadata": {},
   "source": [
    "# Đồ án cuối kỳ môn Lập trình cho KHDL - CSC17104_21KHDL1\n",
    "\n",
    "---\n",
    "## 1. Thông tin nhóm: Nhóm 12\n",
    "\n",
    "- Thành viên:\n",
    "    - Nguyễn Trọng Đại - 21127587\n",
    "    - Nguyễn Tấn Khiêm - 21127726"
   ]
  },
  {
   "attachments": {},
   "cell_type": "markdown",
   "id": "44a67387",
   "metadata": {},
   "source": [
    "---\n",
    "## 2. Import thư viện cần thiết"
   ]
  },
  {
   "cell_type": "code",
   "execution_count": 1,
   "id": "97c02d21",
   "metadata": {},
   "outputs": [],
   "source": [
    "import numpy as np\n",
    "import pandas as pd\n",
    "import matplotlib.pyplot as plt\n",
    "import warnings\n",
    "warnings.simplefilter('ignore')"
   ]
  },
  {
   "attachments": {},
   "cell_type": "markdown",
   "id": "a33b38b8",
   "metadata": {},
   "source": [
    "---\n",
    "## 3. Thu thập dữ liệu\n",
    "\n",
    "- Bộ dữ liệu [Sleep Health and Lifestyle Dataset](https://www.kaggle.com/datasets/uom190346a/sleep-health-and-lifestyle-dataset) bao gồm 400 hàng và 13 cột, bao gồm nhiều biến số liên quan đến giấc ngủ và thói quen hàng ngày. Nó bao gồm các chi tiết như giới tính, tuổi tác, nghề nghiệp, thời gian ngủ, chất lượng giấc ngủ, mức độ hoạt động thể chất, mức độ căng thẳng, chỉ số BMI, huyết áp, nhịp tim, số bước đi hàng ngày và sự hiện diện hay vắng mặt của rối loạn giấc ngủ.\n",
    "- Các tính năng chính của Tập dữ liệu:\n",
    "    + Số liệu toàn diện về giấc ngủ: Khám phá thời lượng, chất lượng giấc ngủ và các yếu tố ảnh hưởng đến kiểu ngủ. \n",
    "    + Các yếu tố về lối sống: Phân tích mức độ hoạt động thể chất, mức độ căng thẳng và chỉ số BMI. \n",
    "    + Sức khỏe tim mạch: Kiểm tra huyết áp và đo nhịp tim. \n",
    "    + Phân tích rối loạn giấc ngủ: Xác định sự xuất hiện của các rối loạn giấc ngủ như Mất ngủ và Ngưng thở khi ngủ.\n",
    "- Tác giả: [Laksika Tharmalingam](https://www.kaggle.com/uom190346a) (Owner).\n",
    "- License: [CC0: Public Domain](https://creativecommons.org/publicdomain/zero/1.0/) nguồn này là public và no copyright vì vậy nhóm em có thể sao chép, khai thác, sửa đổi và phân phối.\n",
    "- Ý nghĩa các cột của Dataset:\n",
    "    - Personal ID: Một định danh cho mỗi cá nhân.\n",
    "    - Gender: Giới tính của người đó (Male/Female).\n",
    "    - Age: Tuổi của người đó tính bằng năm.\n",
    "    - Occupation: Nghề nghiệp hoặc ngành nghề của người đó.\n",
    "    - Sleep Duration (giờ): Số giờ ngủ của người đó mỗi ngày.\n",
    "    - Quality of Sleep (thang điểm: 1-10): Đánh giá chủ quan về chất lượng giấc ngủ, có giá trị từ 1 đến 10.\n",
    "    - Physical Activity Level (phút/ngày): Số phút mà người đó tham gia hoạt động vận động hàng ngày.\n",
    "    - Stress Level (thang điểm: 1-10): Đánh giá chủ quan về mức độ stress mà người đó trải qua, có giá trị từ 1 đến 10.\n",
    "    - BMI Category: Phân loại BMI của người đó (ví dụ: Gầy, Bình thường, Thừa cân).\n",
    "    - Blood Pressure (systolic/diastolic): Đo lường huyết áp của người đó, thường được biểu thị dưới dạng áp systolic trên áp diastolic.\n",
    "    - Heart Rate (nhịp/phút): Nhịp tim nghỉ của người đó tính bằng nhịp mỗi phút.\n",
    "    - Daily Steps: Số bước chân mà người đó đi mỗi ngày.\n",
    "    - Sleep Disorder: Sự có mặt hoặc vắng mặt của rối loạn ngủ ở người đó (Không, Mất ngủ, Ngưng thở khi ngủ).\n",
    "    - Chi tiết về Cột Sleep Disorder:\n",
    "        + None: Người đó không có bất kỳ rối loạn ngủ cụ thể nào.\n",
    "        + Insomnia: Người đó gặp khó khăn khi ngủ hoặc giữ giấc ngủ, dẫn đến giấc ngủ không đủ hoặc chất lượng kém.\n",
    "        + Sleep Apnea: Người đó gặp phải tình trạng tạm dừng hơi thở trong khi ngủ, dẫn đến việc làm gián đoạn mô hình giấc ngủ và có thể gây nguy cơ về sức khỏe."
   ]
  },
  {
   "attachments": {},
   "cell_type": "markdown",
   "id": "14679c2a",
   "metadata": {},
   "source": [
    "---\n",
    "## 4. Khám phá dữ liệu + Tiền xử lý"
   ]
  },
  {
   "attachments": {},
   "cell_type": "markdown",
   "id": "d784e12d",
   "metadata": {},
   "source": [
    "### 4.0. Đọc dữ liệu"
   ]
  },
  {
   "cell_type": "code",
   "execution_count": 2,
   "id": "b2b91697",
   "metadata": {},
   "outputs": [
    {
     "data": {
      "text/html": [
       "<div>\n",
       "<style scoped>\n",
       "    .dataframe tbody tr th:only-of-type {\n",
       "        vertical-align: middle;\n",
       "    }\n",
       "\n",
       "    .dataframe tbody tr th {\n",
       "        vertical-align: top;\n",
       "    }\n",
       "\n",
       "    .dataframe thead th {\n",
       "        text-align: right;\n",
       "    }\n",
       "</style>\n",
       "<table border=\"1\" class=\"dataframe\">\n",
       "  <thead>\n",
       "    <tr style=\"text-align: right;\">\n",
       "      <th></th>\n",
       "      <th>Person ID</th>\n",
       "      <th>Gender</th>\n",
       "      <th>Age</th>\n",
       "      <th>Occupation</th>\n",
       "      <th>Sleep Duration</th>\n",
       "      <th>Quality of Sleep</th>\n",
       "      <th>Physical Activity Level</th>\n",
       "      <th>Stress Level</th>\n",
       "      <th>BMI Category</th>\n",
       "      <th>Blood Pressure</th>\n",
       "      <th>Heart Rate</th>\n",
       "      <th>Daily Steps</th>\n",
       "      <th>Sleep Disorder</th>\n",
       "    </tr>\n",
       "  </thead>\n",
       "  <tbody>\n",
       "    <tr>\n",
       "      <th>35</th>\n",
       "      <td>36</td>\n",
       "      <td>Male</td>\n",
       "      <td>31</td>\n",
       "      <td>Doctor</td>\n",
       "      <td>6.1</td>\n",
       "      <td>6</td>\n",
       "      <td>30</td>\n",
       "      <td>8</td>\n",
       "      <td>Normal</td>\n",
       "      <td>125/80</td>\n",
       "      <td>72</td>\n",
       "      <td>5000</td>\n",
       "      <td>NaN</td>\n",
       "    </tr>\n",
       "    <tr>\n",
       "      <th>235</th>\n",
       "      <td>236</td>\n",
       "      <td>Male</td>\n",
       "      <td>44</td>\n",
       "      <td>Salesperson</td>\n",
       "      <td>6.3</td>\n",
       "      <td>6</td>\n",
       "      <td>45</td>\n",
       "      <td>7</td>\n",
       "      <td>Overweight</td>\n",
       "      <td>130/85</td>\n",
       "      <td>72</td>\n",
       "      <td>6000</td>\n",
       "      <td>Insomnia</td>\n",
       "    </tr>\n",
       "    <tr>\n",
       "      <th>86</th>\n",
       "      <td>87</td>\n",
       "      <td>Male</td>\n",
       "      <td>35</td>\n",
       "      <td>Engineer</td>\n",
       "      <td>7.2</td>\n",
       "      <td>8</td>\n",
       "      <td>60</td>\n",
       "      <td>4</td>\n",
       "      <td>Normal</td>\n",
       "      <td>125/80</td>\n",
       "      <td>65</td>\n",
       "      <td>5000</td>\n",
       "      <td>NaN</td>\n",
       "    </tr>\n",
       "    <tr>\n",
       "      <th>127</th>\n",
       "      <td>128</td>\n",
       "      <td>Female</td>\n",
       "      <td>38</td>\n",
       "      <td>Accountant</td>\n",
       "      <td>7.1</td>\n",
       "      <td>8</td>\n",
       "      <td>60</td>\n",
       "      <td>4</td>\n",
       "      <td>Normal</td>\n",
       "      <td>115/75</td>\n",
       "      <td>68</td>\n",
       "      <td>7000</td>\n",
       "      <td>NaN</td>\n",
       "    </tr>\n",
       "    <tr>\n",
       "      <th>273</th>\n",
       "      <td>274</td>\n",
       "      <td>Female</td>\n",
       "      <td>49</td>\n",
       "      <td>Nurse</td>\n",
       "      <td>6.2</td>\n",
       "      <td>6</td>\n",
       "      <td>90</td>\n",
       "      <td>8</td>\n",
       "      <td>Overweight</td>\n",
       "      <td>140/95</td>\n",
       "      <td>75</td>\n",
       "      <td>10000</td>\n",
       "      <td>Sleep Apnea</td>\n",
       "    </tr>\n",
       "  </tbody>\n",
       "</table>\n",
       "</div>"
      ],
      "text/plain": [
       "     Person ID  Gender  Age   Occupation  Sleep Duration  Quality of Sleep  \\\n",
       "35          36    Male   31       Doctor             6.1                 6   \n",
       "235        236    Male   44  Salesperson             6.3                 6   \n",
       "86          87    Male   35     Engineer             7.2                 8   \n",
       "127        128  Female   38   Accountant             7.1                 8   \n",
       "273        274  Female   49        Nurse             6.2                 6   \n",
       "\n",
       "     Physical Activity Level  Stress Level BMI Category Blood Pressure  \\\n",
       "35                        30             8       Normal         125/80   \n",
       "235                       45             7   Overweight         130/85   \n",
       "86                        60             4       Normal         125/80   \n",
       "127                       60             4       Normal         115/75   \n",
       "273                       90             8   Overweight         140/95   \n",
       "\n",
       "     Heart Rate  Daily Steps Sleep Disorder  \n",
       "35           72         5000            NaN  \n",
       "235          72         6000       Insomnia  \n",
       "86           65         5000            NaN  \n",
       "127          68         7000            NaN  \n",
       "273          75        10000    Sleep Apnea  "
      ]
     },
     "execution_count": 2,
     "metadata": {},
     "output_type": "execute_result"
    }
   ],
   "source": [
    "# TODO: Đọc data từ file csv và lưu vào df. Hiển thị 5 dòng ngẫu nhiên\n",
    "df = pd.read_csv(\"./data/Sleep_health_and_lifestyle_dataset.csv\")\n",
    "df.sample(5)"
   ]
  },
  {
   "attachments": {},
   "cell_type": "markdown",
   "id": "a4a426e7",
   "metadata": {},
   "source": [
    "### 4.1. Số dòng, số cột"
   ]
  },
  {
   "cell_type": "code",
   "execution_count": 13,
   "id": "f784d572",
   "metadata": {},
   "outputs": [
    {
     "data": {
      "text/plain": [
       "(374, 13)"
      ]
     },
     "execution_count": 13,
     "metadata": {},
     "output_type": "execute_result"
    }
   ],
   "source": [
    "# TODO: Lưu số dòng vào số cột vào n_rows, n_cols\n",
    "n_rows, n_cols = df.shape\n",
    "\n",
    "n_rows, n_cols"
   ]
  },
  {
   "attachments": {},
   "cell_type": "markdown",
   "id": "72ae45b3",
   "metadata": {},
   "source": [
    "### 4.2. Khám phá dòng\n",
    "\n",
    "- **TODO**: Nhận xét dòng"
   ]
  },
  {
   "cell_type": "code",
   "execution_count": null,
   "id": "ac98e27d",
   "metadata": {},
   "outputs": [],
   "source": [
    "# TODO: Kiểm tra duplicate, lưu vào 'is_duplicated'\n",
    "\n",
    "print(\"Dữ liệu có duplicate? :\", is_duplicated)"
   ]
  },
  {
   "cell_type": "code",
   "execution_count": null,
   "id": "6c1a54f4",
   "metadata": {},
   "outputs": [],
   "source": [
    "# TODO: Nếu có duplicate thì loại bỏ nó\n"
   ]
  },
  {
   "attachments": {},
   "cell_type": "markdown",
   "id": "7e2e7e60",
   "metadata": {},
   "source": [
    "### 4.3. Khám phá cột\n",
    "\n",
    "- **TODO**: Nhận xét cột"
   ]
  },
  {
   "cell_type": "code",
   "execution_count": null,
   "id": "28d90f00",
   "metadata": {},
   "outputs": [],
   "source": [
    "# TODO: Liệt kê tên các cột và kiểu dữ liệu tương ứng\n"
   ]
  },
  {
   "attachments": {},
   "cell_type": "markdown",
   "id": "ad678b52",
   "metadata": {},
   "source": [
    "### 4.4. Loại bỏ các dòng và cột vô nghĩa\n",
    "\n",
    "- **TODO**: Nhận xét các dòng nào là vô nghĩa? Tại sao?"
   ]
  },
  {
   "cell_type": "code",
   "execution_count": null,
   "id": "a1559572",
   "metadata": {},
   "outputs": [],
   "source": [
    "# TODO: Loại bỏ các dòng vô nghĩa\n"
   ]
  },
  {
   "attachments": {},
   "cell_type": "markdown",
   "id": "344df356",
   "metadata": {},
   "source": [
    "- **TODO**: Nhận xét các cột nào là vô nghĩa? Tại sao?"
   ]
  },
  {
   "cell_type": "code",
   "execution_count": null,
   "id": "ae52525e",
   "metadata": {},
   "outputs": [],
   "source": [
    "# TODO: Loại bỏ các cột vô nghĩa\n"
   ]
  },
  {
   "attachments": {},
   "cell_type": "markdown",
   "id": "eb522ecb",
   "metadata": {},
   "source": [
    "### 4.5. Xử lý data thiếu và chuyển đổi kiểu dữ liệu\n",
    "\n",
    "- Bảng tóm tắt của Dataframe:"
   ]
  },
  {
   "cell_type": "code",
   "execution_count": 14,
   "id": "f6a0a8c1",
   "metadata": {},
   "outputs": [
    {
     "name": "stdout",
     "output_type": "stream",
     "text": [
      "<class 'pandas.core.frame.DataFrame'>\n",
      "RangeIndex: 374 entries, 0 to 373\n",
      "Data columns (total 13 columns):\n",
      " #   Column                   Non-Null Count  Dtype  \n",
      "---  ------                   --------------  -----  \n",
      " 0   Person ID                374 non-null    int64  \n",
      " 1   Gender                   374 non-null    object \n",
      " 2   Age                      374 non-null    int64  \n",
      " 3   Occupation               374 non-null    object \n",
      " 4   Sleep Duration           374 non-null    float64\n",
      " 5   Quality of Sleep         374 non-null    int64  \n",
      " 6   Physical Activity Level  374 non-null    int64  \n",
      " 7   Stress Level             374 non-null    int64  \n",
      " 8   BMI Category             374 non-null    object \n",
      " 9   Blood Pressure           374 non-null    object \n",
      " 10  Heart Rate               374 non-null    int64  \n",
      " 11  Daily Steps              374 non-null    int64  \n",
      " 12  Sleep Disorder           155 non-null    object \n",
      "dtypes: float64(1), int64(7), object(5)\n",
      "memory usage: 38.1+ KB\n"
     ]
    }
   ],
   "source": [
    "# TODO: Hiển thị bảng tóm tắt của Dataframe\n",
    "df.info()"
   ]
  },
  {
   "attachments": {},
   "cell_type": "markdown",
   "id": "b94d79b0",
   "metadata": {},
   "source": [
    "- **Nhận xét:** Ngoài cột `Sleep Disorder` ra thì các cột còn lại không có dữ liệu thiếu. Sở dĩ cột `Sleep Disorder` tồn tại giá trị thiếu là vì tác giả sử dụng `None` để đánh dấu những người không bị rối loạn giấc ngủ (ngủ bình thường). `Pandas` nhận diện các ô `None` thành các ô bị trống, thực chất không phải vậy. Vì vậy, nhóm em sẽ chuyển các giá trị `None` thành `No` để phù hợp với `Pandas`."
   ]
  },
  {
   "cell_type": "code",
   "execution_count": 19,
   "id": "084f3df9",
   "metadata": {},
   "outputs": [
    {
     "data": {
      "text/plain": [
       "Sleep Disorder\n",
       "No             219\n",
       "Sleep Apnea     78\n",
       "Insomnia        77\n",
       "Name: count, dtype: int64"
      ]
     },
     "execution_count": 19,
     "metadata": {},
     "output_type": "execute_result"
    }
   ],
   "source": [
    "# TODO: Xử lý các dòng bị thiếu\n",
    "df['Sleep Disorder'].fillna('No', inplace=True)\n",
    "df['Sleep Disorder'].value_counts()"
   ]
  },
  {
   "attachments": {},
   "cell_type": "markdown",
   "id": "3ef56a11",
   "metadata": {},
   "source": [
    "- Đối với phần chuyển đổi kiểu dữ liệu, nhìn chung có vẻ tất cả đều đúng kiểu dữ liệu, nhưng nếu để ý thì cột `Blood Pressure` đang chứa cả giá trị của tâm thu và tâm trương (giá trị khi đo huyết áp) và có kiểu là `object`. Để thuận tiện cho việc xử lý sau này, nhóm em sẽ tách cột `Blood Pressure` thành 2 cột `Systolic`(tâm thu) và `Diastolic`(tâm trương) có kiểu là `int64`. Như vậy bộ dữ liệu sẽ có tổng cộng 9 cột `Numeric` và 4 cột `Categorical` (không tính cột `Person ID`)."
   ]
  },
  {
   "cell_type": "code",
   "execution_count": 20,
   "id": "74b9565b",
   "metadata": {},
   "outputs": [
    {
     "data": {
      "text/html": [
       "<div>\n",
       "<style scoped>\n",
       "    .dataframe tbody tr th:only-of-type {\n",
       "        vertical-align: middle;\n",
       "    }\n",
       "\n",
       "    .dataframe tbody tr th {\n",
       "        vertical-align: top;\n",
       "    }\n",
       "\n",
       "    .dataframe thead th {\n",
       "        text-align: right;\n",
       "    }\n",
       "</style>\n",
       "<table border=\"1\" class=\"dataframe\">\n",
       "  <thead>\n",
       "    <tr style=\"text-align: right;\">\n",
       "      <th></th>\n",
       "      <th>Person ID</th>\n",
       "      <th>Gender</th>\n",
       "      <th>Age</th>\n",
       "      <th>Occupation</th>\n",
       "      <th>Sleep Duration</th>\n",
       "      <th>Quality of Sleep</th>\n",
       "      <th>Physical Activity Level</th>\n",
       "      <th>Stress Level</th>\n",
       "      <th>BMI Category</th>\n",
       "      <th>Heart Rate</th>\n",
       "      <th>Daily Steps</th>\n",
       "      <th>Sleep Disorder</th>\n",
       "      <th>Systolic</th>\n",
       "      <th>Diastolic</th>\n",
       "    </tr>\n",
       "  </thead>\n",
       "  <tbody>\n",
       "    <tr>\n",
       "      <th>349</th>\n",
       "      <td>350</td>\n",
       "      <td>Female</td>\n",
       "      <td>57</td>\n",
       "      <td>Nurse</td>\n",
       "      <td>8.1</td>\n",
       "      <td>9</td>\n",
       "      <td>75</td>\n",
       "      <td>3</td>\n",
       "      <td>Overweight</td>\n",
       "      <td>68</td>\n",
       "      <td>7000</td>\n",
       "      <td>Sleep Apnea</td>\n",
       "      <td>140</td>\n",
       "      <td>95</td>\n",
       "    </tr>\n",
       "    <tr>\n",
       "      <th>193</th>\n",
       "      <td>194</td>\n",
       "      <td>Male</td>\n",
       "      <td>43</td>\n",
       "      <td>Salesperson</td>\n",
       "      <td>6.5</td>\n",
       "      <td>6</td>\n",
       "      <td>45</td>\n",
       "      <td>7</td>\n",
       "      <td>Overweight</td>\n",
       "      <td>72</td>\n",
       "      <td>6000</td>\n",
       "      <td>Insomnia</td>\n",
       "      <td>130</td>\n",
       "      <td>85</td>\n",
       "    </tr>\n",
       "    <tr>\n",
       "      <th>189</th>\n",
       "      <td>190</td>\n",
       "      <td>Male</td>\n",
       "      <td>43</td>\n",
       "      <td>Salesperson</td>\n",
       "      <td>6.5</td>\n",
       "      <td>6</td>\n",
       "      <td>45</td>\n",
       "      <td>7</td>\n",
       "      <td>Overweight</td>\n",
       "      <td>72</td>\n",
       "      <td>6000</td>\n",
       "      <td>Insomnia</td>\n",
       "      <td>130</td>\n",
       "      <td>85</td>\n",
       "    </tr>\n",
       "    <tr>\n",
       "      <th>258</th>\n",
       "      <td>259</td>\n",
       "      <td>Female</td>\n",
       "      <td>45</td>\n",
       "      <td>Teacher</td>\n",
       "      <td>6.6</td>\n",
       "      <td>7</td>\n",
       "      <td>45</td>\n",
       "      <td>4</td>\n",
       "      <td>Overweight</td>\n",
       "      <td>65</td>\n",
       "      <td>6000</td>\n",
       "      <td>Insomnia</td>\n",
       "      <td>135</td>\n",
       "      <td>90</td>\n",
       "    </tr>\n",
       "    <tr>\n",
       "      <th>296</th>\n",
       "      <td>297</td>\n",
       "      <td>Female</td>\n",
       "      <td>50</td>\n",
       "      <td>Nurse</td>\n",
       "      <td>6.1</td>\n",
       "      <td>6</td>\n",
       "      <td>90</td>\n",
       "      <td>8</td>\n",
       "      <td>Overweight</td>\n",
       "      <td>75</td>\n",
       "      <td>10000</td>\n",
       "      <td>Sleep Apnea</td>\n",
       "      <td>140</td>\n",
       "      <td>95</td>\n",
       "    </tr>\n",
       "  </tbody>\n",
       "</table>\n",
       "</div>"
      ],
      "text/plain": [
       "     Person ID  Gender  Age   Occupation  Sleep Duration  Quality of Sleep  \\\n",
       "349        350  Female   57        Nurse             8.1                 9   \n",
       "193        194    Male   43  Salesperson             6.5                 6   \n",
       "189        190    Male   43  Salesperson             6.5                 6   \n",
       "258        259  Female   45      Teacher             6.6                 7   \n",
       "296        297  Female   50        Nurse             6.1                 6   \n",
       "\n",
       "     Physical Activity Level  Stress Level BMI Category  Heart Rate  \\\n",
       "349                       75             3   Overweight          68   \n",
       "193                       45             7   Overweight          72   \n",
       "189                       45             7   Overweight          72   \n",
       "258                       45             4   Overweight          65   \n",
       "296                       90             8   Overweight          75   \n",
       "\n",
       "     Daily Steps Sleep Disorder Systolic Diastolic  \n",
       "349         7000    Sleep Apnea      140        95  \n",
       "193         6000       Insomnia      130        85  \n",
       "189         6000       Insomnia      130        85  \n",
       "258         6000       Insomnia      135        90  \n",
       "296        10000    Sleep Apnea      140        95  "
      ]
     },
     "execution_count": 20,
     "metadata": {},
     "output_type": "execute_result"
    }
   ],
   "source": [
    "# TODO: Chuyển đổi kiểu dữ liệu cho đúng\n",
    "df[['Systolic', 'Diastolic']] = df['Blood Pressure'].str.extract(r'(\\d+)\\/(\\d+)')\n",
    "df.drop('Blood Pressure', axis=1, inplace=True)\n",
    "df.sample(5)"
   ]
  },
  {
   "attachments": {},
   "cell_type": "markdown",
   "id": "a48723d2",
   "metadata": {},
   "source": [
    "### 4.6. Phân bố dữ liệu\n",
    "\n",
    "#### 4.6.1. Dữ liệu Numeric\n",
    "\n",
    "- Bảng giá trị lượng tử Numeric:"
   ]
  },
  {
   "cell_type": "code",
   "execution_count": null,
   "id": "e4070be8",
   "metadata": {},
   "outputs": [],
   "source": [
    "# TODO: Tính giá trị lượng tử (min, 25%, 50%, 75%, max) của từng cột Numeric, lưu vào 'numeric_col_profile'\n",
    "# 'numeric_col_profile' là 1 dataframe có col là các cột của df, index là 5 giá trị lượng tử\n",
    "\n",
    "numeric_col_profile"
   ]
  },
  {
   "attachments": {},
   "cell_type": "markdown",
   "id": "cbf0305f",
   "metadata": {},
   "source": [
    "- Biểu đồ phân bố dữ liệu Numeric:"
   ]
  },
  {
   "cell_type": "code",
   "execution_count": null,
   "id": "e00319ba",
   "metadata": {},
   "outputs": [],
   "source": [
    "# TODO: In ra biểu đồ cột phân bố dữ liệu Numeric dựa vào 'numeric_col_profile'\n"
   ]
  },
  {
   "attachments": {},
   "cell_type": "markdown",
   "id": "b561c6b6",
   "metadata": {},
   "source": [
    "- **TODO**: Nhận xét về sự phân bố dữ liệu của các cột Numeric"
   ]
  },
  {
   "attachments": {},
   "cell_type": "markdown",
   "id": "c4b60ff7",
   "metadata": {},
   "source": [
    "#### 4.6.2. Dữ liệu Categorical\n",
    "\n",
    "- Bảng phân bố dữ liệu Categorical:"
   ]
  },
  {
   "cell_type": "code",
   "execution_count": 21,
   "id": "30fbda06",
   "metadata": {},
   "outputs": [
    {
     "data": {
      "text/html": [
       "<div>\n",
       "<style scoped>\n",
       "    .dataframe tbody tr th:only-of-type {\n",
       "        vertical-align: middle;\n",
       "    }\n",
       "\n",
       "    .dataframe tbody tr th {\n",
       "        vertical-align: top;\n",
       "    }\n",
       "\n",
       "    .dataframe thead th {\n",
       "        text-align: right;\n",
       "    }\n",
       "</style>\n",
       "<table border=\"1\" class=\"dataframe\">\n",
       "  <thead>\n",
       "    <tr style=\"text-align: right;\">\n",
       "      <th></th>\n",
       "      <th>Gender</th>\n",
       "      <th>Occupation</th>\n",
       "      <th>BMI Category</th>\n",
       "      <th>Sleep Disorder</th>\n",
       "    </tr>\n",
       "  </thead>\n",
       "  <tbody>\n",
       "    <tr>\n",
       "      <th>num_diff_vals</th>\n",
       "      <td>2</td>\n",
       "      <td>11</td>\n",
       "      <td>4</td>\n",
       "      <td>3</td>\n",
       "    </tr>\n",
       "    <tr>\n",
       "      <th>distribution</th>\n",
       "      <td>{'Male': 189, 'Female': 185}</td>\n",
       "      <td>{'Nurse': 73, 'Doctor': 71, 'Engineer': 63, 'L...</td>\n",
       "      <td>{'Normal': 195, 'Overweight': 148, 'Normal Wei...</td>\n",
       "      <td>{'No': 219, 'Sleep Apnea': 78, 'Insomnia': 77}</td>\n",
       "    </tr>\n",
       "  </tbody>\n",
       "</table>\n",
       "</div>"
      ],
      "text/plain": [
       "                                     Gender  \\\n",
       "num_diff_vals                             2   \n",
       "distribution   {'Male': 189, 'Female': 185}   \n",
       "\n",
       "                                                      Occupation  \\\n",
       "num_diff_vals                                                 11   \n",
       "distribution   {'Nurse': 73, 'Doctor': 71, 'Engineer': 63, 'L...   \n",
       "\n",
       "                                                    BMI Category  \\\n",
       "num_diff_vals                                                  4   \n",
       "distribution   {'Normal': 195, 'Overweight': 148, 'Normal Wei...   \n",
       "\n",
       "                                               Sleep Disorder  \n",
       "num_diff_vals                                               3  \n",
       "distribution   {'No': 219, 'Sleep Apnea': 78, 'Insomnia': 77}  "
      ]
     },
     "execution_count": 21,
     "metadata": {},
     "output_type": "execute_result"
    }
   ],
   "source": [
    "# TODO: Tính các giá trị unique của mỗi cột, và 1 dictionary ứng với mỗi cột có key là giá trị unique, value là số lượng của nó trong cột\n",
    "# Lưu vào 'single_cate_profile' là 1 dataframe có index là số lượng unique của cột và dictionary tương ứng\n",
    "# có col là các cột của df\n",
    "categoricals = df[['Gender', 'Occupation', 'BMI Category', 'Sleep Disorder']]\n",
    "distribution = categoricals.agg(lambda column: column.value_counts().to_dict())\n",
    "single_cate_profile = pd.DataFrame([categoricals.describe().iloc[1], distribution], index=[\"num_diff_vals\", \"distribution\"])\n",
    "\n",
    "single_cate_profile"
   ]
  },
  {
   "attachments": {},
   "cell_type": "markdown",
   "id": "f082113e",
   "metadata": {},
   "source": [
    "- Biểu đồ phân bố dữ liệu Categorical:"
   ]
  },
  {
   "cell_type": "code",
   "execution_count": 24,
   "id": "f907d629",
   "metadata": {},
   "outputs": [
    {
     "data": {
      "text/plain": [
       "array([[<Axes: ylabel='Gender'>, <Axes: ylabel='Occupation'>],\n",
       "       [<Axes: ylabel='BMI Category'>, <Axes: ylabel='Sleep Disorder'>]],\n",
       "      dtype=object)"
      ]
     },
     "execution_count": 24,
     "metadata": {},
     "output_type": "execute_result"
    },
    {
     "data": {
      "image/png": "[encoded data removed]",
      "text/plain": [
       "<Figure size 1500x1500 with 4 Axes>"
      ]
     },
     "metadata": {},
     "output_type": "display_data"
    }
   ],
   "source": [
    "# TODO: In ra biểu đồ hình tròn (pie chart) phân bố dữ liệu Categorical dựa vào 'single_cate_profile'\n",
    "# Ghi rõ chú thích cho từng biểu đồ.\n",
    "counts = categoricals.agg(lambda column: column.value_counts()).fillna(0)\n",
    "counts.plot.pie(subplots=True, layout=(2, 2), figsize=(15, 15), labeldistance=None, autopct=lambda p: '{:.1f}%'.format(round(p, 1)) if p > 0 else '')"
   ]
  },
  {
   "attachments": {},
   "cell_type": "markdown",
   "id": "6976cdcd",
   "metadata": {},
   "source": [
    "- **Nhận xét về các cột Categorical**:\n",
    "    - `Gender`: Tỷ lệ nam nữ là ngang nhau, cho thấy bộ dữ liệu mang tính cân bằng về giới tính.\n",
    "    - `Occupation`: Những người tham gia khảo sát có ngành nghề đa dạng, nhưng trong đó `Doctor` và `Nurse` chiếm phần lớn (tổng hơn 40%). Có thể thấy có rất nhiều nhân viên bệnh viện tham gia vào cuộc khảo sát. Điều này có thể giúp ích cho việc tìm ra phương pháp có giấc ngủ tốt chuẩn nhất (Nhóm em tin rằng bác sĩ và y tá là những người chú trọng giữ sức khoẻ của bản thân, bao gồm chất lượng giấc ngủ).\n",
    "    - `BMI Category`: Chiếm đa số là `Normal`, theo sau là `Overweight`, tỷ lệ giữa người bình thường và người nặng cân, béo phì không quá chênh lệch. Bộ dữ liệu thiếu vắng phân loại `Underweight`(nhẹ cân) là một khuyết điểm lớn vì chúng ta không thể biết liệu nhóm người gầy có ngủ ngon hơn nhóm người béo hay không.\n",
    "    - `Sleep Disorder`: Sự chênh lệch giữa người không bị và bị rối loạn giấc ngủ (bao gồm `Insomnia` và `Sleep Apnea`) là không quá lớn, bộ dữ liệu mang tính cân bằng về chất lượng giấc ngủ.\n",
    "- Một thắc mắc về cột `BMI Category` là giá trị `Normal` và `Normal Weight` khác nhau ở chỗ nào?\n",
    "    - Tác giả của bộ dữ liệu không hề đề cập đến vấn đề này trên Kaggle, một số tài khoản đã hỏi nhưng không có được câu trả lời.\n",
    "    - Theo nhóm em tìm hiểu về bảng phân loại BMI thì 2 giá trị này là như nhau, vậy nên nhóm em quyết định sẽ hợp nhất 2 giá trị thành `Normal`."
   ]
  },
  {
   "cell_type": "code",
   "execution_count": 6,
   "id": "aebaa537",
   "metadata": {},
   "outputs": [
    {
     "data": {
      "text/plain": [
       "BMI Category\n",
       "Normal        216\n",
       "Overweight    148\n",
       "Obese          10\n",
       "Name: count, dtype: int64"
      ]
     },
     "execution_count": 6,
     "metadata": {},
     "output_type": "execute_result"
    }
   ],
   "source": [
    "# TODO: Hợp nhất 2 giá trị 'Normal' và 'Normal Weight' thành 'Normal' trong cột 'BMI Category'\n",
    "df['BMI Category'].replace(['Normal Weight'], 'Normal', inplace=True)\n",
    "df['BMI Category'].value_counts()"
   ]
  },
  {
   "attachments": {},
   "cell_type": "markdown",
   "id": "4a677c78",
   "metadata": {},
   "source": [
    "---\n",
    "## 5. Đặt câu hỏi có ý nghĩa"
   ]
  },
  {
   "attachments": {},
   "cell_type": "markdown",
   "id": "38fe0bea",
   "metadata": {},
   "source": [
    "### 5.1. Câu hỏi 1: ...\n",
    "\n",
    "- Thành viên phụ trách: ...\n",
    "- Mục đích: ...\n",
    "\n",
    "#### 5.1.1. Tiền xử lý\n",
    "\n",
    "- Các bước tiền xử lý:\n",
    "    - ..."
   ]
  },
  {
   "cell_type": "code",
   "execution_count": null,
   "id": "0949b874",
   "metadata": {},
   "outputs": [],
   "source": [
    "# TODO: Code tiền xử lý câu hỏi 1\n"
   ]
  },
  {
   "attachments": {},
   "cell_type": "markdown",
   "id": "0fd966e0",
   "metadata": {},
   "source": [
    "#### 5.1.2. Phân tích dữ liệu trả lời câu hỏi\n",
    "\n",
    "- Các bước phân tích dữ liệu:\n",
    "    - ..."
   ]
  },
  {
   "cell_type": "code",
   "execution_count": null,
   "id": "d915a6bb",
   "metadata": {},
   "outputs": [],
   "source": [
    "# TODO: Code phân tích dữ liệu để trả lời câu hỏi 1\n"
   ]
  },
  {
   "attachments": {},
   "cell_type": "markdown",
   "id": "8dd01b2c",
   "metadata": {},
   "source": [
    "### 5.2. Câu hỏi 2: ...\n",
    "\n",
    "- Thành viên phụ trách: ...\n",
    "- Mục đích: ...\n",
    "\n",
    "#### 5.2.1. Tiền xử lý\n",
    "\n",
    "- Các bước tiền xử lý:\n",
    "    - ..."
   ]
  },
  {
   "cell_type": "code",
   "execution_count": null,
   "id": "584b6254",
   "metadata": {},
   "outputs": [],
   "source": [
    "# TODO: Code tiền xử lý câu hỏi 2\n"
   ]
  },
  {
   "attachments": {},
   "cell_type": "markdown",
   "id": "c3a79ffb",
   "metadata": {},
   "source": [
    "#### 5.2.2. Phân tích dữ liệu trả lời câu hỏi\n",
    "\n",
    "- Các bước phân tích dữ liệu:\n",
    "    - ..."
   ]
  },
  {
   "cell_type": "code",
   "execution_count": null,
   "id": "84be9cc9",
   "metadata": {},
   "outputs": [],
   "source": [
    "# TODO: Code phân tích dữ liệu để trả lời câu hỏi 2\n"
   ]
  },
  {
   "attachments": {},
   "cell_type": "markdown",
   "id": "49fd53e9",
   "metadata": {},
   "source": [
    "### 5.3. Câu hỏi 3: ...\n",
    "\n",
    "- Thành viên phụ trách: ...\n",
    "- Mục đích: ...\n",
    "\n",
    "#### 5.3.1. Tiền xử lý\n",
    "\n",
    "- Các bước tiền xử lý:\n",
    "    - ..."
   ]
  },
  {
   "cell_type": "code",
   "execution_count": null,
   "id": "953c56d4",
   "metadata": {},
   "outputs": [],
   "source": [
    "# TODO: Code tiền xử lý câu hỏi 3\n"
   ]
  },
  {
   "attachments": {},
   "cell_type": "markdown",
   "id": "399a64e4",
   "metadata": {},
   "source": [
    "#### 5.3.2. Phân tích dữ liệu trả lời câu hỏi\n",
    "\n",
    "- Các bước phân tích dữ liệu:\n",
    "    - ..."
   ]
  },
  {
   "cell_type": "code",
   "execution_count": null,
   "id": "2b931011",
   "metadata": {},
   "outputs": [],
   "source": [
    "# TODO: Code phân tích dữ liệu để trả lời câu hỏi 3\n"
   ]
  },
  {
   "attachments": {},
   "cell_type": "markdown",
   "id": "990b12ab",
   "metadata": {},
   "source": [
    "### 5.4. Câu hỏi 4: ...\n",
    "\n",
    "- Thành viên phụ trách: ...\n",
    "- Mục đích: ...\n",
    "\n",
    "#### 5.4.1. Tiền xử lý\n",
    "\n",
    "- Các bước tiền xử lý:\n",
    "    - ..."
   ]
  },
  {
   "cell_type": "code",
   "execution_count": null,
   "id": "fab81363",
   "metadata": {},
   "outputs": [],
   "source": [
    "# TODO: Code tiền xử lý câu hỏi 4\n"
   ]
  },
  {
   "attachments": {},
   "cell_type": "markdown",
   "id": "5e0f532e",
   "metadata": {},
   "source": [
    "#### 5.4.2. Phân tích dữ liệu trả lời câu hỏi\n",
    "\n",
    "- Các bước phân tích dữ liệu:\n",
    "    - ..."
   ]
  },
  {
   "cell_type": "code",
   "execution_count": null,
   "id": "0519b2c7",
   "metadata": {},
   "outputs": [],
   "source": [
    "# TODO: Code phân tích dữ liệu để trả lời câu hỏi 4\n"
   ]
  },
  {
   "attachments": {},
   "cell_type": "markdown",
   "id": "36a4dcb2",
   "metadata": {},
   "source": [
    "---\n",
    "## 6. Phản ánh bản thân sau khi hoàn thành đồ án\n",
    "\n",
    "### 6.1. Những khó khăn gặp phải?\n",
    "\n",
    "- Nguyễn Trọng Đại:\n",
    "    - ...\n",
    "- Nguyễn Tấn Khiêm:\n",
    "    - ...\n",
    "    \n",
    "### 6.2. Kinh nghiệm, bài học đạt được khi làm đồ án?\n",
    "\n",
    "- Nguyễn Trọng Đại:\n",
    "    - ...\n",
    "- Nguyễn Tấn Khiêm:\n",
    "    - ...\n",
    "    \n",
    "### 6.3. Nếu có thêm thời gian, nhóm sẽ làm:\n",
    "\n",
    "- ..."
   ]
  },
  {
   "attachments": {},
   "cell_type": "markdown",
   "id": "d1888dcc",
   "metadata": {},
   "source": [
    "---\n",
    "## 7. Tài liệu sử dụng\n",
    "\n",
    "- ..."
   ]
  },
  {
   "cell_type": "code",
   "execution_count": null,
   "id": "18c46677",
   "metadata": {},
   "outputs": [],
   "source": []
  }
 ],
 "metadata": {
  "kernelspec": {
   "display_name": "Python 3 (ipykernel)",
   "language": "python",
   "name": "python3"
  },
  "language_info": {
   "codemirror_mode": {
    "name": "ipython",
    "version": 3
   },
   "file_extension": ".py",
   "mimetype": "text/x-python",
   "name": "python",
   "nbconvert_exporter": "python",
   "pygments_lexer": "ipython3",
   "version": "3.10.5"
  }
 },
 "nbformat": 4,
 "nbformat_minor": 5
}
