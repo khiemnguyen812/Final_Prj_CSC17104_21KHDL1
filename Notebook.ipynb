{
 "cells": [
  {
   "cell_type": "markdown",
   "id": "0c93b39f",
   "metadata": {},
   "source": [
    "# Đồ án cuối kỳ môn Lập trình cho KHDL - CSC17104_21KHDL1\n",
    "\n",
    "---\n",
    "## 1. Thông tin nhóm: Nhóm 12\n",
    "\n",
    "- Thành viên:\n",
    "    - Nguyễn Trọng Đại - 21127587\n",
    "    - Nguyễn Tấn Khiêm - 21127726"
   ]
  },
  {
   "cell_type": "markdown",
   "id": "44a67387",
   "metadata": {},
   "source": [
    "---\n",
    "## 2. Import thư viện cần thiết"
   ]
  },
  {
   "cell_type": "code",
   "execution_count": 3,
   "id": "97c02d21",
   "metadata": {},
   "outputs": [],
   "source": [
    "import numpy as np\n",
    "import pandas as pd\n",
    "import matplotlib.pyplot as plt\n",
    "import warnings\n",
    "warnings.simplefilter('ignore')"
   ]
  },
  {
   "cell_type": "markdown",
   "id": "a33b38b8",
   "metadata": {},
   "source": [
    "---\n",
    "## 3. Thu thập dữ liệu\n",
    "\n",
    "- Mô tả dữ liệu: ...\n",
    "- Tác giả: ...\n",
    "- License: ...\n",
    "- Cách tác giả thu thập dữ liệu: ..."
   ]
  },
  {
   "cell_type": "markdown",
   "id": "14679c2a",
   "metadata": {},
   "source": [
    "---\n",
    "## 4. Khám phá dữ liệu + Tiền xử lý"
   ]
  },
  {
   "cell_type": "markdown",
   "id": "d784e12d",
   "metadata": {},
   "source": [
    "### 4.0. Đọc dữ liệu"
   ]
  },
  {
   "cell_type": "code",
   "execution_count": 4,
   "id": "b2b91697",
   "metadata": {},
   "outputs": [
    {
     "data": {
      "text/html": [
       "<div>\n",
       "<style scoped>\n",
       "    .dataframe tbody tr th:only-of-type {\n",
       "        vertical-align: middle;\n",
       "    }\n",
       "\n",
       "    .dataframe tbody tr th {\n",
       "        vertical-align: top;\n",
       "    }\n",
       "\n",
       "    .dataframe thead th {\n",
       "        text-align: right;\n",
       "    }\n",
       "</style>\n",
       "<table border=\"1\" class=\"dataframe\">\n",
       "  <thead>\n",
       "    <tr style=\"text-align: right;\">\n",
       "      <th></th>\n",
       "      <th>Person ID</th>\n",
       "      <th>Gender</th>\n",
       "      <th>Age</th>\n",
       "      <th>Occupation</th>\n",
       "      <th>Sleep Duration</th>\n",
       "      <th>Quality of Sleep</th>\n",
       "      <th>Physical Activity Level</th>\n",
       "      <th>Stress Level</th>\n",
       "      <th>BMI Category</th>\n",
       "      <th>Blood Pressure</th>\n",
       "      <th>Heart Rate</th>\n",
       "      <th>Daily Steps</th>\n",
       "      <th>Sleep Disorder</th>\n",
       "    </tr>\n",
       "  </thead>\n",
       "  <tbody>\n",
       "    <tr>\n",
       "      <th>43</th>\n",
       "      <td>44</td>\n",
       "      <td>Male</td>\n",
       "      <td>31</td>\n",
       "      <td>Doctor</td>\n",
       "      <td>7.8</td>\n",
       "      <td>7</td>\n",
       "      <td>75</td>\n",
       "      <td>6</td>\n",
       "      <td>Normal</td>\n",
       "      <td>120/80</td>\n",
       "      <td>70</td>\n",
       "      <td>8000</td>\n",
       "      <td>NaN</td>\n",
       "    </tr>\n",
       "    <tr>\n",
       "      <th>50</th>\n",
       "      <td>51</td>\n",
       "      <td>Male</td>\n",
       "      <td>32</td>\n",
       "      <td>Engineer</td>\n",
       "      <td>7.5</td>\n",
       "      <td>8</td>\n",
       "      <td>45</td>\n",
       "      <td>3</td>\n",
       "      <td>Normal</td>\n",
       "      <td>120/80</td>\n",
       "      <td>70</td>\n",
       "      <td>8000</td>\n",
       "      <td>NaN</td>\n",
       "    </tr>\n",
       "    <tr>\n",
       "      <th>4</th>\n",
       "      <td>5</td>\n",
       "      <td>Male</td>\n",
       "      <td>28</td>\n",
       "      <td>Sales Representative</td>\n",
       "      <td>5.9</td>\n",
       "      <td>4</td>\n",
       "      <td>30</td>\n",
       "      <td>8</td>\n",
       "      <td>Obese</td>\n",
       "      <td>140/90</td>\n",
       "      <td>85</td>\n",
       "      <td>3000</td>\n",
       "      <td>Sleep Apnea</td>\n",
       "    </tr>\n",
       "    <tr>\n",
       "      <th>18</th>\n",
       "      <td>19</td>\n",
       "      <td>Female</td>\n",
       "      <td>29</td>\n",
       "      <td>Nurse</td>\n",
       "      <td>6.5</td>\n",
       "      <td>5</td>\n",
       "      <td>40</td>\n",
       "      <td>7</td>\n",
       "      <td>Normal Weight</td>\n",
       "      <td>132/87</td>\n",
       "      <td>80</td>\n",
       "      <td>4000</td>\n",
       "      <td>Insomnia</td>\n",
       "    </tr>\n",
       "    <tr>\n",
       "      <th>288</th>\n",
       "      <td>289</td>\n",
       "      <td>Female</td>\n",
       "      <td>50</td>\n",
       "      <td>Nurse</td>\n",
       "      <td>6.0</td>\n",
       "      <td>6</td>\n",
       "      <td>90</td>\n",
       "      <td>8</td>\n",
       "      <td>Overweight</td>\n",
       "      <td>140/95</td>\n",
       "      <td>75</td>\n",
       "      <td>10000</td>\n",
       "      <td>Sleep Apnea</td>\n",
       "    </tr>\n",
       "  </tbody>\n",
       "</table>\n",
       "</div>"
      ],
      "text/plain": [
       "     Person ID  Gender  Age            Occupation  Sleep Duration  \\\n",
       "43          44    Male   31                Doctor             7.8   \n",
       "50          51    Male   32              Engineer             7.5   \n",
       "4            5    Male   28  Sales Representative             5.9   \n",
       "18          19  Female   29                 Nurse             6.5   \n",
       "288        289  Female   50                 Nurse             6.0   \n",
       "\n",
       "     Quality of Sleep  Physical Activity Level  Stress Level   BMI Category  \\\n",
       "43                  7                       75             6         Normal   \n",
       "50                  8                       45             3         Normal   \n",
       "4                   4                       30             8          Obese   \n",
       "18                  5                       40             7  Normal Weight   \n",
       "288                 6                       90             8     Overweight   \n",
       "\n",
       "    Blood Pressure  Heart Rate  Daily Steps Sleep Disorder  \n",
       "43          120/80          70         8000            NaN  \n",
       "50          120/80          70         8000            NaN  \n",
       "4           140/90          85         3000    Sleep Apnea  \n",
       "18          132/87          80         4000       Insomnia  \n",
       "288         140/95          75        10000    Sleep Apnea  "
      ]
     },
     "execution_count": 4,
     "metadata": {},
     "output_type": "execute_result"
    }
   ],
   "source": [
    "# TODO: Đọc data từ file csv và lưu vào df. Hiển thị 5 dòng ngẫu nhiên\n",
    "df = pd.read_csv(\"./data/Sleep_health_and_lifestyle_dataset.csv\")\n",
    "df.sample(5)"
   ]
  },
  {
   "cell_type": "markdown",
   "id": "a4a426e7",
   "metadata": {},
   "source": [
    "### 4.1. Số dòng, số cột"
   ]
  },
  {
   "cell_type": "code",
   "execution_count": 5,
   "id": "f784d572",
   "metadata": {},
   "outputs": [
    {
     "data": {
      "text/plain": [
       "(374, 13)"
      ]
     },
     "execution_count": 5,
     "metadata": {},
     "output_type": "execute_result"
    }
   ],
   "source": [
    "# TODO: Lưu số dòng vào số cột vào n_rows, n_cols\n",
    "n_rows, n_cols = df.shape\n",
    "\n",
    "n_rows, n_cols"
   ]
  },
  {
   "cell_type": "markdown",
   "id": "72ae45b3",
   "metadata": {},
   "source": [
    "### 4.2. Khám phá dòng\n",
    "\n",
    "- **TODO**: Nhận xét dòng"
   ]
  },
  {
   "cell_type": "code",
   "execution_count": null,
   "id": "ac98e27d",
   "metadata": {},
   "outputs": [],
   "source": [
    "# TODO: Kiểm tra duplicate, lưu vào 'is_duplicated'\n",
    "\n",
    "print(\"Dữ liệu có duplicate? :\", is_duplicated)"
   ]
  },
  {
   "cell_type": "code",
   "execution_count": null,
   "id": "6c1a54f4",
   "metadata": {},
   "outputs": [],
   "source": [
    "# TODO: Nếu có duplicate thì loại bỏ nó\n"
   ]
  },
  {
   "cell_type": "markdown",
   "id": "7e2e7e60",
   "metadata": {},
   "source": [
    "### 4.3. Khám phá cột\n",
    "\n",
    "- **TODO**: Nhận xét cột"
   ]
  },
  {
   "cell_type": "code",
   "execution_count": null,
   "id": "28d90f00",
   "metadata": {},
   "outputs": [],
   "source": [
    "# TODO: Liệt kê tên các cột và kiểu dữ liệu tương ứng\n"
   ]
  },
  {
   "cell_type": "markdown",
   "id": "ad678b52",
   "metadata": {},
   "source": [
    "### 4.4. Loại bỏ các dòng và cột vô nghĩa\n",
    "\n",
    "- **TODO**: Nhận xét các dòng nào là vô nghĩa? Tại sao?"
   ]
  },
  {
   "cell_type": "code",
   "execution_count": null,
   "id": "a1559572",
   "metadata": {},
   "outputs": [],
   "source": [
    "# TODO: Loại bỏ các dòng vô nghĩa\n"
   ]
  },
  {
   "cell_type": "markdown",
   "id": "344df356",
   "metadata": {},
   "source": [
    "- **TODO**: Nhận xét các cột nào là vô nghĩa? Tại sao?"
   ]
  },
  {
   "cell_type": "code",
   "execution_count": null,
   "id": "ae52525e",
   "metadata": {},
   "outputs": [],
   "source": [
    "# TODO: Loại bỏ các cột vô nghĩa\n"
   ]
  },
  {
   "cell_type": "markdown",
   "id": "eb522ecb",
   "metadata": {},
   "source": [
    "### 4.5. Xử lý data thiếu và chuyển đổi kiểu dữ liệu\n",
    "\n",
    "- Bảng tóm tắt của Dataframe:"
   ]
  },
  {
   "cell_type": "code",
   "execution_count": null,
   "id": "f6a0a8c1",
   "metadata": {},
   "outputs": [],
   "source": [
    "# TODO: Hiển thị bảng tóm tắt của Dataframe\n"
   ]
  },
  {
   "cell_type": "markdown",
   "id": "b94d79b0",
   "metadata": {},
   "source": [
    "- **TODO**: Nhận xét bảng tóm tắt\n",
    "- **TODO**: Đối với những dòng bị thiếu, xử lý thế nào?"
   ]
  },
  {
   "cell_type": "code",
   "execution_count": null,
   "id": "8eb701e6",
   "metadata": {},
   "outputs": [],
   "source": [
    "# TODO: Xử lý các dòng bị thiếu\n"
   ]
  },
  {
   "cell_type": "markdown",
   "id": "418afb62",
   "metadata": {},
   "source": [
    "- **TODO**: Từ bảng tóm tắt, nhận xét dữ liệu các cột có đúng hay chưa."
   ]
  },
  {
   "cell_type": "code",
   "execution_count": null,
   "id": "74b9565b",
   "metadata": {},
   "outputs": [],
   "source": [
    "# TODO: Chuyển đổi kiểu dữ liệu cho đúng\n"
   ]
  },
  {
   "cell_type": "markdown",
   "id": "a48723d2",
   "metadata": {},
   "source": [
    "### 4.6. Phân bố dữ liệu\n",
    "\n",
    "#### 4.6.1. Dữ liệu Numeric\n",
    "\n",
    "- Bảng giá trị lượng tử Numeric:"
   ]
  },
  {
   "cell_type": "code",
   "execution_count": null,
   "id": "e4070be8",
   "metadata": {},
   "outputs": [],
   "source": [
    "# TODO: Tính giá trị lượng tử (min, 25%, 50%, 75%, max) của từng cột Numeric, lưu vào 'numeric_col_profile'\n",
    "# 'numeric_col_profile' là 1 dataframe có col là các cột của df, index là 5 giá trị lượng tử\n",
    "\n",
    "numeric_col_profile"
   ]
  },
  {
   "cell_type": "markdown",
   "id": "cbf0305f",
   "metadata": {},
   "source": [
    "- Biểu đồ phân bố dữ liệu Numeric:"
   ]
  },
  {
   "cell_type": "code",
   "execution_count": null,
   "id": "e00319ba",
   "metadata": {},
   "outputs": [],
   "source": [
    "# TODO: In ra biểu đồ cột phân bố dữ liệu Numeric dựa vào 'numeric_col_profile'\n"
   ]
  },
  {
   "cell_type": "markdown",
   "id": "b561c6b6",
   "metadata": {},
   "source": [
    "- **TODO**: Nhận xét về sự phân bố dữ liệu của các cột Numeric"
   ]
  },
  {
   "cell_type": "markdown",
   "id": "c4b60ff7",
   "metadata": {},
   "source": [
    "#### 4.6.2. Dữ liệu Categorical\n",
    "\n",
    "- Bảng phân bố dữ liệu Categorical:"
   ]
  },
  {
   "cell_type": "code",
   "execution_count": null,
   "id": "30fbda06",
   "metadata": {},
   "outputs": [],
   "source": [
    "# TODO: Tính các giá trị unique của mỗi cột, và 1 dictionary ứng với mỗi cột có key là giá trị unique, value là số lượng của nó trong cột\n",
    "# Lưu vào 'single_cate_profile' là 1 dataframe có index là số lượng unique của cột và dictionary tương ứng\n",
    "# có col là các cột của df\n",
    "\n",
    "single_cate_profile"
   ]
  },
  {
   "cell_type": "markdown",
   "id": "f082113e",
   "metadata": {},
   "source": [
    "- Biểu đồ phân bố dữ liệu Categorical:"
   ]
  },
  {
   "cell_type": "code",
   "execution_count": null,
   "id": "f907d629",
   "metadata": {},
   "outputs": [],
   "source": [
    "# TODO: In ra biểu đồ hình tròn (pie chart) phân bố dữ liệu Categorical dựa vào 'single_cate_profile'\n",
    "# Ghi rõ chú thích cho từng biểu đồ\n"
   ]
  },
  {
   "cell_type": "markdown",
   "id": "6976cdcd",
   "metadata": {},
   "source": [
    "- **TODO**: Nhận xét về sự phân bố dữ liệu của các cột Categorical"
   ]
  },
  {
   "cell_type": "markdown",
   "id": "4a677c78",
   "metadata": {},
   "source": [
    "---\n",
    "## 5. Đặt câu hỏi có ý nghĩa"
   ]
  },
  {
   "cell_type": "markdown",
   "id": "38fe0bea",
   "metadata": {},
   "source": [
    "### 5.1. Câu hỏi 1: ...\n",
    "\n",
    "- Thành viên phụ trách: ...\n",
    "- Mục đích: ...\n",
    "\n",
    "#### 5.1.1. Tiền xử lý\n",
    "\n",
    "- Các bước tiền xử lý:\n",
    "    - ..."
   ]
  },
  {
   "cell_type": "code",
   "execution_count": null,
   "id": "0949b874",
   "metadata": {},
   "outputs": [],
   "source": [
    "# TODO: Code tiền xử lý câu hỏi 1\n"
   ]
  },
  {
   "cell_type": "markdown",
   "id": "0fd966e0",
   "metadata": {},
   "source": [
    "#### 5.1.2. Phân tích dữ liệu trả lời câu hỏi\n",
    "\n",
    "- Các bước phân tích dữ liệu:\n",
    "    - ..."
   ]
  },
  {
   "cell_type": "code",
   "execution_count": null,
   "id": "d915a6bb",
   "metadata": {},
   "outputs": [],
   "source": [
    "# TODO: Code phân tích dữ liệu để trả lời câu hỏi 1\n"
   ]
  },
  {
   "cell_type": "markdown",
   "id": "8dd01b2c",
   "metadata": {},
   "source": [
    "### 5.2. Câu hỏi 2: ...\n",
    "\n",
    "- Thành viên phụ trách: ...\n",
    "- Mục đích: ...\n",
    "\n",
    "#### 5.2.1. Tiền xử lý\n",
    "\n",
    "- Các bước tiền xử lý:\n",
    "    - ..."
   ]
  },
  {
   "cell_type": "code",
   "execution_count": null,
   "id": "584b6254",
   "metadata": {},
   "outputs": [],
   "source": [
    "# TODO: Code tiền xử lý câu hỏi 2\n"
   ]
  },
  {
   "cell_type": "markdown",
   "id": "c3a79ffb",
   "metadata": {},
   "source": [
    "#### 5.2.2. Phân tích dữ liệu trả lời câu hỏi\n",
    "\n",
    "- Các bước phân tích dữ liệu:\n",
    "    - ..."
   ]
  },
  {
   "cell_type": "code",
   "execution_count": null,
   "id": "84be9cc9",
   "metadata": {},
   "outputs": [],
   "source": [
    "# TODO: Code phân tích dữ liệu để trả lời câu hỏi 2\n"
   ]
  },
  {
   "cell_type": "markdown",
   "id": "49fd53e9",
   "metadata": {},
   "source": [
    "### 5.3. Câu hỏi 3: ...\n",
    "\n",
    "- Thành viên phụ trách: ...\n",
    "- Mục đích: ...\n",
    "\n",
    "#### 5.3.1. Tiền xử lý\n",
    "\n",
    "- Các bước tiền xử lý:\n",
    "    - ..."
   ]
  },
  {
   "cell_type": "code",
   "execution_count": null,
   "id": "953c56d4",
   "metadata": {},
   "outputs": [],
   "source": [
    "# TODO: Code tiền xử lý câu hỏi 3\n"
   ]
  },
  {
   "cell_type": "markdown",
   "id": "399a64e4",
   "metadata": {},
   "source": [
    "#### 5.3.2. Phân tích dữ liệu trả lời câu hỏi\n",
    "\n",
    "- Các bước phân tích dữ liệu:\n",
    "    - ..."
   ]
  },
  {
   "cell_type": "code",
   "execution_count": null,
   "id": "2b931011",
   "metadata": {},
   "outputs": [],
   "source": [
    "# TODO: Code phân tích dữ liệu để trả lời câu hỏi 3\n"
   ]
  },
  {
   "cell_type": "markdown",
   "id": "990b12ab",
   "metadata": {},
   "source": [
    "### 5.4. Câu hỏi 4: ...\n",
    "\n",
    "- Thành viên phụ trách: ...\n",
    "- Mục đích: ...\n",
    "\n",
    "#### 5.4.1. Tiền xử lý\n",
    "\n",
    "- Các bước tiền xử lý:\n",
    "    - ..."
   ]
  },
  {
   "cell_type": "code",
   "execution_count": null,
   "id": "fab81363",
   "metadata": {},
   "outputs": [],
   "source": [
    "# TODO: Code tiền xử lý câu hỏi 4\n"
   ]
  },
  {
   "cell_type": "markdown",
   "id": "5e0f532e",
   "metadata": {},
   "source": [
    "#### 5.4.2. Phân tích dữ liệu trả lời câu hỏi\n",
    "\n",
    "- Các bước phân tích dữ liệu:\n",
    "    - ..."
   ]
  },
  {
   "cell_type": "code",
   "execution_count": null,
   "id": "0519b2c7",
   "metadata": {},
   "outputs": [],
   "source": [
    "# TODO: Code phân tích dữ liệu để trả lời câu hỏi 4\n"
   ]
  },
  {
   "cell_type": "markdown",
   "id": "36a4dcb2",
   "metadata": {},
   "source": [
    "---\n",
    "## 6. Phản ánh bản thân sau khi hoàn thành đồ án\n",
    "\n",
    "### 6.1. Những khó khăn gặp phải?\n",
    "\n",
    "- Nguyễn Trọng Đại:\n",
    "    - ...\n",
    "- Nguyễn Tấn Khiêm:\n",
    "    - ...\n",
    "    \n",
    "### 6.2. Kinh nghiệm, bài học đạt được khi làm đồ án?\n",
    "\n",
    "- Nguyễn Trọng Đại:\n",
    "    - ...\n",
    "- Nguyễn Tấn Khiêm:\n",
    "    - ...\n",
    "    \n",
    "### 6.3. Nếu có thêm thời gian, nhóm sẽ làm:\n",
    "\n",
    "- ..."
   ]
  },
  {
   "cell_type": "markdown",
   "id": "d1888dcc",
   "metadata": {},
   "source": [
    "---\n",
    "## 7. Tài liệu sử dụng\n",
    "\n",
    "- ..."
   ]
  },
  {
   "cell_type": "code",
   "execution_count": null,
   "id": "18c46677",
   "metadata": {},
   "outputs": [],
   "source": []
  }
 ],
 "metadata": {
  "kernelspec": {
   "display_name": "Python 3 (ipykernel)",
   "language": "python",
   "name": "python3"
  },
  "language_info": {
   "codemirror_mode": {
    "name": "ipython",
    "version": 3
   },
   "file_extension": ".py",
   "mimetype": "text/x-python",
   "name": "python",
   "nbconvert_exporter": "python",
   "pygments_lexer": "ipython3",
   "version": "3.10.5"
  }
 },
 "nbformat": 4,
 "nbformat_minor": 5
}
