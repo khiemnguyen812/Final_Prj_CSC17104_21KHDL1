{
 "cells": [
  {
   "attachments": {},
   "cell_type": "markdown",
   "metadata": {},
   "source": [
    "# Collecting Data\n",
    "### **_01. Chủ đề và nguồn thu thập dữ liệu:_**\n",
    "- Bộ dữ liệu [Sleep Health and Lifestyle Dataset](https://www.kaggle.com/datasets/uom190346a/sleep-health-and-lifestyle-dataset) bao gồm 400 hàng và 13 cột, bao gồm nhiều biến số liên quan đến giấc ngủ và thói quen hàng ngày. Nó bao gồm các chi tiết như giới tính, tuổi tác, nghề nghiệp, thời gian ngủ, chất lượng giấc ngủ, mức độ hoạt động thể chất, mức độ căng thẳng, chỉ số BMI, huyết áp, nhịp tim, số bước đi hàng ngày và sự hiện diện hay vắng mặt của rối loạn giấc ngủ.\n",
    "- Các tính năng chính của Tập dữ liệu:\n",
    "    + Số liệu toàn diện về giấc ngủ: Khám phá thời lượng, chất lượng giấc ngủ và các yếu tố ảnh hưởng đến kiểu ngủ. \n",
    "    + Các yếu tố về lối sống: Phân tích mức độ hoạt động thể chất, mức độ căng thẳng và chỉ số BMI. \n",
    "    + Sức khỏe tim mạch: Kiểm tra huyết áp và đo nhịp tim. \n",
    "    + Phân tích rối loạn giấc ngủ: Xác định sự xuất hiện của các rối loạn giấc ngủ như Mất ngủ và Ngưng thở khi ngủ.\n",
    "### **_02. License và Copyright:_**\n",
    "- Tác giả: [Laksika Tharmalingam](https://www.kaggle.com/uom190346a) (Owner).\n",
    "- License: [CC0: Public Domain](https://creativecommons.org/publicdomain/zero/1.0/) nguồn này là public và no copyright vì vậy nhóm em có thể sao chép, khai thác, sửa đổi và phân phối.\n",
    "### **_03. Ý nghĩa các cột của Dataset:_**\n",
    "- Personal ID: Một định danh cho mỗi cá nhân.\n",
    "- Gender: Giới tính của người đó (Male/Female).\n",
    "- Age: Tuổi của người đó tính bằng năm.\n",
    "- Occupation: Nghề nghiệp hoặc ngành nghề của người đó.\n",
    "- Sleep Duration (giờ): Số giờ ngủ của người đó mỗi ngày.\n",
    "- Quality of Sleep (thang điểm: 1-10): Đánh giá chủ quan về chất lượng giấc ngủ, có giá trị từ 1 đến 10.\n",
    "- Physical Activity Level (phút/ngày): Số phút mà người đó tham gia hoạt động vận động hàng ngày.\n",
    "- Stress Level (thang điểm: 1-10): Đánh giá chủ quan về mức độ stress mà người đó trải qua, có giá trị từ 1 đến 10.\n",
    "- BMI Category: Phân loại BMI của người đó (ví dụ: Gầy, Bình thường, Thừa cân).\n",
    "- Blood Pressure (systolic/diastolic): Đo lường huyết áp của người đó, thường được biểu thị dưới dạng áp systolic trên áp diastolic.\n",
    "- Heart Rate (nhịp/phút): Nhịp tim nghỉ của người đó tính bằng nhịp mỗi phút.\n",
    "- Daily Steps: Số bước chân mà người đó đi mỗi ngày.\n",
    "- Sleep Disorder: Sự có mặt hoặc vắng mặt của rối loạn ngủ ở người đó (Không, Mất ngủ, Ngưng thở khi ngủ).\n",
    "- Chi tiết về Cột Sleep Disorder:\n",
    "    + None: Người đó không có bất kỳ rối loạn ngủ cụ thể nào.\n",
    "    + Insomnia: Người đó gặp khó khăn khi ngủ hoặc giữ giấc ngủ, dẫn đến giấc ngủ không đủ hoặc chất lượng kém.\n",
    "    + Sleep Apnea: Người đó gặp phải tình trạng tạm dừng hơi thở trong khi ngủ, dẫn đến việc làm gián đoạn mô hình giấc ngủ và có thể gây nguy cơ về sức khỏe."
   ]
  }
 ],
 "metadata": {
  "language_info": {
   "name": "python"
  },
  "orig_nbformat": 4
 },
 "nbformat": 4,
 "nbformat_minor": 2
}
